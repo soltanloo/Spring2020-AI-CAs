{
 "cells": [
  {
   "cell_type": "markdown",
   "metadata": {},
   "source": [
    "# Artificial Intelligence - CA2\n",
    "## Hossein Soltanloo - 810195407"
   ]
  },
  {
   "cell_type": "markdown",
   "metadata": {},
   "source": [
    "First the needed libraries are included."
   ]
  },
  {
   "cell_type": "code",
   "execution_count": 1,
   "metadata": {},
   "outputs": [],
   "source": [
    "import re\n",
    "import string\n",
    "import random\n",
    "import copy\n",
    "from nltk.tokenize import word_tokenize\n",
    "ALPHABET = \"abcdefghijklmnopqrstuvwxyz\""
   ]
  },
  {
   "cell_type": "markdown",
   "metadata": {},
   "source": [
    "#### Cleaning the Data\n",
    "In order to clean the raw data used as training text, we follow a few steps as follows:\n",
    "1. Read the raw data file\n",
    "2. Lowercase all the letters\n",
    "3. Replace numbers with blank spaces\n",
    "4. Replace punctuations with blank spaces\n",
    "5. Tokenize the text into words\n",
    "6. Create a set both to delete repeated words and have a faster way to search among them\n",
    "\n",
    "These steps are done in order to extract only the words and not punctuations and numbers; because only the words have value for us. We use them in order to check if a decrypted word has a meaning and is present in our dictionary."
   ]
  },
  {
   "cell_type": "code",
   "execution_count": 2,
   "metadata": {},
   "outputs": [],
   "source": [
    "def read_file(file_path):\n",
    "    with open(file_path, 'r') as myfile:\n",
    "        return myfile.read()\n",
    "    \n",
    "def clean_text(text):\n",
    "    new_text = text.lower()\n",
    "    new_text = re.sub(r\"\\d+\", \" \", new_text)\n",
    "    for ch in string.punctuation:                                                                                                     \n",
    "        new_text = new_text.replace(ch, \" \")\n",
    "    new_text = ' '.join(new_text.split())\n",
    "    word_tokens = word_tokenize(new_text) \n",
    "    data = new_text.split()\n",
    "    return set(word_tokens)"
   ]
  },
  {
   "cell_type": "markdown",
   "metadata": {},
   "source": [
    "#### Chromosome\n",
    "I define a chromosome as a mapping from the normal alphabet to their substitutions. As a helper tool, I have defined the following method to create a dictionary from a string. The string is used as a shortened representation of the key where the letters are substitutions of the original alphabet with regards to their order."
   ]
  },
  {
   "cell_type": "code",
   "execution_count": 3,
   "metadata": {},
   "outputs": [],
   "source": [
    "def create_dict_key(key_string):\n",
    "    dict_key = dict()\n",
    "    for i in range(len(ALPHABET)):\n",
    "        dict_key[ALPHABET[i]] = key_string[i]\n",
    "    return dict_key"
   ]
  },
  {
   "cell_type": "markdown",
   "metadata": {},
   "source": [
    "To generate children from two parents, we first need to initialize an empty mapping and fill it with the crossover and mutation operations. The following method helps to initialize the children:"
   ]
  },
  {
   "cell_type": "code",
   "execution_count": 4,
   "metadata": {},
   "outputs": [],
   "source": [
    "def create_empty_dict():\n",
    "    return {chr(i):'' for i in range(97, 123)}"
   ]
  },
  {
   "cell_type": "markdown",
   "metadata": {},
   "source": [
    "The following function takes a potential mapping and decrypts the given text:"
   ]
  },
  {
   "cell_type": "code",
   "execution_count": 5,
   "metadata": {},
   "outputs": [],
   "source": [
    "def decrypt(cipher_text, key_dict):\n",
    "    decrypted_text = \"\"\n",
    "    for letter in cipher_text:\n",
    "        uppercase = letter.isupper()\n",
    "        if uppercase:\n",
    "            decrypted_text += key_dict[letter.lower()].upper()\n",
    "        else:\n",
    "            if letter in ALPHABET:\n",
    "                decrypted_text += key_dict[letter]\n",
    "            else:\n",
    "                decrypted_text += letter\n",
    "\n",
    "    return decrypted_text"
   ]
  },
  {
   "cell_type": "markdown",
   "metadata": {},
   "source": [
    "#### Fitness\n",
    "The fitness of a chromosome is a value with one characteristic, it increases as the chromosome better maps the cipher text to have more meaningful content. The value itself is irrelevant. We can, however, use the value for comparative purposes, assuming the fitness is calculated with the same cipher text for both chromosomes. After performing this comparison, the chromosome with the higher fitness is the \"better\" chromosome.\n",
    "\n",
    "I have used the number of meaningful words in a deciphered text as the measure of fitness. By meaningful words, I mean words that are present in the initial dictionary extracted from the training text."
   ]
  },
  {
   "cell_type": "code",
   "execution_count": 6,
   "metadata": {},
   "outputs": [],
   "source": [
    "def calculate_fitness(decrypted_text, dictionary):\n",
    "    fitness = 0\n",
    "    for word in decrypted_text:\n",
    "        if word in dictionary or word in ALPHABET:\n",
    "            fitness += 1\n",
    "    return fitness"
   ]
  },
  {
   "cell_type": "markdown",
   "metadata": {},
   "source": [
    "#### Crossover and Mutation\n",
    "Crossover generates two child chromosomes from two parent chromosomes, each with roughly half the mappings of either parent. This is a good way to ensure that the best parts of different chromosomes are mixed and that multiple chromosomes with different correct mappings can transform into one chromosome with many correct mappings after only a few generations. This is performed by the function `crossover`, which takes two chromosomes to act as parents. It creates two new chromosomes, `child1` and `child2`. These children are initially empty. A random slicing point is generated and then the first part of the first child is filled with the first slice of the first parent and the second slice is filled wi the second slice of the second parent. There may be some mappings of this second slice that might have already been filled by the first parent, so we ignore them and solve this problem by filling the blank spaces with the remaining alphabet. The same is done for the second child with the first and second parents swapped.\n",
    "\n",
    "Mutation generates a child chromosome from one parent chromosome, with multiple mappings swapped. For example, if a chromosome contained the mappings (a, b) and (c, d), and these mappings were the ones selected for mutation, then the resulting mappings in the child would be (a, d) and (c, b). This type of child allows another method for new genes to be introduced into successful genes, improving the genetic diversity of the population.\\\n",
    "The mutation is done with a %70 chance to control the convergance of chromosomes into better ones and not mutate every child. I mutate the children in variant numbers to add more diversity into the chromosomes. In normal conditions, from 1 to 5 mutations are applied to the children. There is also another condition where we need to refresh the population when it has been stuck and not improving for many generations. In this condition we need to shock the chromosomes to have more chance to get out of the local optima and for this to happen, I apply more mutations (10-20) to each child. If more than a certain number of generations have had the same maximum fitness, then a shock will be applied.\\\n",
    "I used the genetic shock when I had problems with my project and it was getting stuck in local optima. I did other optimizations and removed this condition and it has seemed to be working well without it. So that's just a potential solution to the problem of getting stuck in a local optima."
   ]
  },
  {
   "cell_type": "code",
   "execution_count": 7,
   "metadata": {},
   "outputs": [],
   "source": [
    "def crossover(parent_key1, parent_key2, shock = False):\n",
    "    parent_key1 = create_dict_key(parent_key1)\n",
    "    parent_key2 = create_dict_key(parent_key2)\n",
    "\n",
    "    slice_index = random.randrange(0, 26)\n",
    "    child1 = merge_parents(parent_key1,parent_key2,slice_index)\n",
    "    child2 = merge_parents(parent_key2,parent_key1,slice_index)\n",
    "\n",
    "    is_mutated = random.randrange(0, 10)\n",
    "    if is_mutated < 7 or shock:\n",
    "        child1 = mutate_child(''.join(child1), shock)\n",
    "        child2 = mutate_child(''.join(child2), shock)\n",
    "\n",
    "    child1 = ''.join(child1)\n",
    "    child2 = ''.join(child2)\n",
    "    return [child1, child2]\n",
    "\n",
    "def merge_parents(parent_key1, parent_key2, slice_index):\n",
    "    child = create_empty_dict()\n",
    "    \n",
    "    for i in range(0, slice_index):\n",
    "        current_letter = chr(i + 97)\n",
    "        child[current_letter] = parent_key1[current_letter]\n",
    "\n",
    "    for j in range(slice_index, len(parent_key2)):\n",
    "        current_letter = chr(j + 97)\n",
    "        if parent_key2[current_letter] not in child.values() and child[current_letter] == '':\n",
    "            child[current_letter] = parent_key2[current_letter]\n",
    "\n",
    "    shuffled_alhpabet = copy.deepcopy(list(ALPHABET))\n",
    "    random.shuffle(shuffled_alhpabet)\n",
    "    for a in shuffled_alhpabet:\n",
    "        for k in child:\n",
    "            if a not in child.values() and child[k] == '':\n",
    "                child[k] = a\n",
    "                \n",
    "    child = list(child.values())\n",
    "    return child\n",
    "\n",
    "def mutate_child(original, shock):\n",
    "    mutated_child = create_dict_key(original)\n",
    "    if shock:\n",
    "        mutations = random.randint(10,20)\n",
    "    else:\n",
    "        mutations = random.randint(1,5)\n",
    "    for i in range(0, mutations):\n",
    "        idx1 = random.randint(0,25)\n",
    "        idx2 = random.randint(idx1,25)\n",
    "        temp = mutated_child[chr(idx1 + 97)]\n",
    "        mutated_child[chr(idx1 + 97)] = mutated_child[chr(idx2 + 97)]\n",
    "        mutated_child[chr(idx2 + 97)] = temp    \n",
    "    return list(mutated_child.values())"
   ]
  },
  {
   "cell_type": "markdown",
   "metadata": {},
   "source": [
    "#### Running the Algorithm\n",
    "I have set the initial population size to be 1000 in order to have a better and more diverse start. For every population, I calculate fitness for all chromosomes in that population and sort the chromosomes by their fitnesses. Afterwards, in the selection phase, I choose the 50 most fit parents to generate children. They're called \"Elites\". Child generation is done in this way: Each elite parent generates two children by a %60 chance with the next 5 parents which are ordered by their fitness. In addition to the new children, the elites are carried to the next generation to maintain their strong fitness in the next generation and use them if the new children are not strong enough. In special conditions when we need a genetic shock to inject fresh genes into the population, 1000 children are generated from 500 random pairs of parents which are selected from the whole population and not just the elites. This way we can add more diversity and be able to exit from the local optima.\n",
    "\n",
    "Answers to the questions in the project description:\n",
    "- If we increase the population size, this makes it harder for a locally optimized chromosome to overpower the entire genetic pool, and makes the locally optimized chromosome more likely to encounter a chromsome that will break it out of the local optima as it spreads. It will optimize the combination of speed and accuarcy but we cannot say for sure if either will be optimized individually.\n",
    "\n",
    "- If we use crossover without mutation, then the algorithm won't be able to effectively create new children with better fitnesses. The algorithm would be generating the best children it can but after some generations, it would always be recombining the same parents and generating children that are just like their parents and are not any better. Mutation is used to introduce diversity to the population. Hence if not used, we would be soon facing a local optima that can't be escaped.\n",
    "\n",
    "- I think that a combination of both is important and there is no point in using them individually. But we can say that a crossover is more important in generating fitter children and a mutation is important in keeping the population diverse. Both of these methods combine to make it work.\n",
    "\n",
    "- As mentioned earlier, we can do several things to prevent a convergence. A convergence may happen due to a less diverse population, a low populations size, low crossover chances, and poor selection methods. In order to overcome a local optimum, we can use genetic shocks, more mutations, and more population size. All of them are already described above and I have used a combination of the solutions to overcome these issues."
   ]
  },
  {
   "cell_type": "code",
   "execution_count": 8,
   "metadata": {
    "pycharm": {},
    "scrolled": true
   },
   "outputs": [],
   "source": [
    "MAX_GENERATIONS = 5000\n",
    "ELITES_SIZE = 50\n",
    "INITIAL_POPULATION = 1000\n",
    "GENERATION_SIZE = 500\n",
    "MAX_REPETITIONS = 5\n",
    "\n",
    "def sort_dict(dictionary):\n",
    "    sorted_dict_list = sorted(copy.deepcopy(dictionary), key=dictionary.get, reverse=True)\n",
    "    return sorted_dict_list\n",
    "\n",
    "def genetic_algorithm(cipher_text):\n",
    "    cleaned_data = clean_text(read_file('Attachment/global_text.txt'))\n",
    "    gen_num = 0\n",
    "    hold_text = {}\n",
    "    parents = [''.join(random.sample(ALPHABET, len(ALPHABET))) for i in range(INITIAL_POPULATION)]\n",
    "    last_top_fitness = 0\n",
    "    repeated_fitness = 0\n",
    "\n",
    "    while gen_num < MAX_GENERATIONS:\n",
    "        decryptions = {}\n",
    "        for parent in parents:\n",
    "            parent_key = create_dict_key(copy.deepcopy(parent))\n",
    "            decrypted_text = decrypt(cipher_text, parent_key)\n",
    "            cleaned_decrypted_text = clean_text(decrypted_text)\n",
    "            fitness = calculate_fitness(cleaned_decrypted_text, cleaned_data)\n",
    "            decryptions[parent] = fitness\n",
    "            hold_text[parent] = decrypted_text\n",
    "            if fitness == len(cleaned_decrypted_text):\n",
    "                return parent, hold_text[parent]\n",
    "\n",
    "        parents_sorted = sort_dict(copy.deepcopy(decryptions))\n",
    "        if last_top_fitness == decryptions[parents_sorted[0]]:\n",
    "            repeated_fitness += 1\n",
    "        else:\n",
    "            repeated_fitness = 0\n",
    "            last_top_fitness = decryptions[parents_sorted[0]]\n",
    "        \n",
    "        new_generation = []\n",
    "\n",
    "        for i in range(0, ELITES_SIZE):\n",
    "            for j in range(0, 4):\n",
    "                parent1 = parents_sorted[i]\n",
    "                parent2 = parents_sorted[i+1]\n",
    "                chance = random.randint(0, 9)\n",
    "                if chance > 3:\n",
    "                    new_generation += crossover(parent1, parent2)\n",
    "\n",
    "        parents = parents_sorted[0:ELITES_SIZE] + new_generation[:GENERATION_SIZE - ELITES_SIZE]\n",
    "        \n",
    "        if repeated_fitness >= MAX_REPETITIONS:\n",
    "            if repeated_fitness % MAX_REPETITIONS == 0:\n",
    "                for i in range(0, GENERATION_SIZE):\n",
    "                    idx1 = random.randint(0, ELITES_SIZE - 1)\n",
    "                    idx2 = random.randint(0, ELITES_SIZE - 1)\n",
    "                    parent1 = parents_sorted[idx1]\n",
    "                    parent2 = parents_sorted[idx2]\n",
    "                    parents += crossover(parent1, parent2)\n",
    "\n",
    "        gen_num += 1"
   ]
  },
  {
   "cell_type": "markdown",
   "metadata": {},
   "source": [
    "After running it for 5 times, the algorithm averaged for 80 seconds."
   ]
  },
  {
   "cell_type": "code",
   "execution_count": 9,
   "metadata": {},
   "outputs": [
    {
     "name": "stdout",
     "output_type": "stream",
     "text": [
      "Average running time for 5 executions:   80.33116720000001\n"
     ]
    }
   ],
   "source": [
    "import time\n",
    "times = []\n",
    "for i in range(0, 5):\n",
    "    start = time.process_time()\n",
    "    key = genetic_algorithm(read_file('Attachment/encoded_text.txt'))\n",
    "    times.append(time.process_time() - start)\n",
    "print(\"Average running time for 5 executions:  \",sum(times)/len(times))"
   ]
  },
  {
   "cell_type": "code",
   "execution_count": null,
   "metadata": {},
   "outputs": [],
   "source": []
  }
 ],
 "metadata": {
  "kernelspec": {
   "display_name": "Python 3",
   "language": "python",
   "name": "python3"
  },
  "language_info": {
   "codemirror_mode": {
    "name": "ipython",
    "version": 3
   },
   "file_extension": ".py",
   "mimetype": "text/x-python",
   "name": "python",
   "nbconvert_exporter": "python",
   "pygments_lexer": "ipython3",
   "version": "3.7.4"
  }
 },
 "nbformat": 4,
 "nbformat_minor": 2
}