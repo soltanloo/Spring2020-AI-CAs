{
 "cells": [
  {
   "cell_type": "code",
   "execution_count": 1,
   "metadata": {},
   "outputs": [
    {
     "data": {
      "text/html": [
       "<style>\n",
       ".text_cell {\n",
       "    font-family: \"Vazir\", \"Segoe UI\";\n",
       "}\n",
       ".rendered_html p {\n",
       "    text-align: right;\n",
       "}\n",
       ".text_cell {\n",
       "    direction: rtl;\n",
       "}\n",
       "div.input {\n",
       "    flex-direction: row-reverse;\n",
       "}\n",
       "</style>\n"
      ],
      "text/plain": [
       "<IPython.core.display.HTML object>"
      ]
     },
     "metadata": {},
     "output_type": "display_data"
    }
   ],
   "source": [
    "%%html\n",
    "<style>\n",
    ".text_cell {\n",
    "    font-family: \"Vazir\", \"Segoe UI\";\n",
    "}\n",
    ".rendered_html p {\n",
    "    text-align: right;\n",
    "}\n",
    ".text_cell {\n",
    "    direction: rtl;\n",
    "}\n",
    "div.input {\n",
    "    flex-direction: row-reverse;\n",
    "}\n",
    "</style>"
   ]
  },
  {
   "cell_type": "markdown",
   "metadata": {},
   "source": [
    "# هوش مصنوعی - پروژهٔ جایگزین امتحان\n",
    "## حسین سلطانلو - ۸۱۰۱۹۵۴۰۷"
   ]
  },
  {
   "cell_type": "markdown",
   "metadata": {},
   "source": [
    "در اولین قدم اقدام به import کردن کتاب‌خانه‌های موردنیاز می‌کنیم:"
   ]
  },
  {
   "cell_type": "code",
   "execution_count": 2,
   "metadata": {},
   "outputs": [],
   "source": [
    "from __future__ import unicode_literals\n",
    "import re\n",
    "from hazm import Normalizer, sent_tokenize, Stemmer, Lemmatizer\n",
    "import string\n",
    "import nltk\n",
    "import pandas as pd\n",
    "import numpy as np\n",
    "from sklearn.feature_selection import mutual_info_regression\n",
    "from sklearn.preprocessing import OneHotEncoder\n",
    "from sklearn.preprocessing import LabelEncoder"
   ]
  },
  {
   "cell_type": "markdown",
   "metadata": {},
   "source": [
    "سپس داده‌ها را از فایل مربوطه می‌خوانیم و برای تسهیل در استفاده‌های بعدی کمی تغییرات در چینش ستون‌های آن ایجاد می‌کنیم."
   ]
  },
  {
   "cell_type": "code",
   "execution_count": 3,
   "metadata": {},
   "outputs": [],
   "source": [
    "data = pd.read_csv('mobile_phone_dataset.csv')\n",
    "data.drop(data.columns[[0]], axis=1, inplace=True)\n",
    "data = data[['brand', 'city', 'title', 'desc', 'created_at', 'price', 'image_count']]"
   ]
  },
  {
   "cell_type": "markdown",
   "metadata": {},
   "source": [
    "این مرحله مختص به متناسب‌سازی داده‌های categorical است. بسیاری از مدل‌های یادگیری ماشین فقط با داده‌های عددی سر و کار دارند و باید به نحوی این‌گونه داده‌های categorical را به داده‌های عددی تبدیل کنیم. برای این کار روش‌های متنوعی وجود دارد که در این‌جا از روش One Hot Encoding استفاده می‌کنیم.  One Hot Encoding به هر دسته یک ستون اختصاص می‌دهد و هر سطری که جزو آن دسته باشد را با 1 نمایش می‌دهد. ایراد استفاده از این روش این است که منجر به افزایش بسیار زیاد تعداد featureها و هم‌چنین بزرگ‌شدن جدول داده‌ها می‌شود.\n",
    "دلیل استفاده از این روش به جای Label Encoding این است که نمی‌خواهیم به دسته‌ها ارزش عددی بدهیم تا دسته‌ای به دیگری برتری پیدا نکند."
   ]
  },
  {
   "cell_type": "code",
   "execution_count": 4,
   "metadata": {},
   "outputs": [],
   "source": [
    "onehotencoder = OneHotEncoder(handle_unknown='ignore')\n",
    "feature_arr = onehotencoder.fit_transform(data[['brand','city']]).toarray()\n",
    "feature_labels = onehotencoder.categories_\n",
    "feature_labels = np.array(feature_labels).ravel()\n",
    "features = pd.DataFrame(feature_arr, columns=feature_labels)\n",
    "data = data.join(features)"
   ]
  },
  {
   "cell_type": "code",
   "execution_count": 5,
   "metadata": {},
   "outputs": [
    {
     "data": {
      "text/html": [
       "<div>\n",
       "<style scoped>\n",
       "    .dataframe tbody tr th:only-of-type {\n",
       "        vertical-align: middle;\n",
       "    }\n",
       "\n",
       "    .dataframe tbody tr th {\n",
       "        vertical-align: top;\n",
       "    }\n",
       "\n",
       "    .dataframe thead th {\n",
       "        text-align: right;\n",
       "    }\n",
       "</style>\n",
       "<table border=\"1\" class=\"dataframe\">\n",
       "  <thead>\n",
       "    <tr style=\"text-align: right;\">\n",
       "      <th></th>\n",
       "      <th>brand</th>\n",
       "      <th>city</th>\n",
       "      <th>title</th>\n",
       "      <th>desc</th>\n",
       "      <th>created_at</th>\n",
       "      <th>price</th>\n",
       "      <th>image_count</th>\n",
       "      <th>Apple::اپل</th>\n",
       "      <th>HTC::اچ‌تی‌سی</th>\n",
       "      <th>Huawei::هوآوی</th>\n",
       "      <th>...</th>\n",
       "      <th>ZTE::زدتی‌ای</th>\n",
       "      <th>Ahvaz</th>\n",
       "      <th>Isfahan</th>\n",
       "      <th>Karaj</th>\n",
       "      <th>Kermanshah</th>\n",
       "      <th>Mashhad</th>\n",
       "      <th>Qom</th>\n",
       "      <th>Shiraz</th>\n",
       "      <th>Tabriz</th>\n",
       "      <th>Tehran</th>\n",
       "    </tr>\n",
       "  </thead>\n",
       "  <tbody>\n",
       "    <tr>\n",
       "      <th>0</th>\n",
       "      <td>Nokia::نوکیا</td>\n",
       "      <td>Qom</td>\n",
       "      <td>نوکیا6303</td>\n",
       "      <td>سلام.یه گوشیه6303سالم که فقط دوتا خط کوچیک رو ...</td>\n",
       "      <td>Wednesday 07AM</td>\n",
       "      <td>60000</td>\n",
       "      <td>2</td>\n",
       "      <td>0.0</td>\n",
       "      <td>0.0</td>\n",
       "      <td>0.0</td>\n",
       "      <td>...</td>\n",
       "      <td>0.0</td>\n",
       "      <td>0.0</td>\n",
       "      <td>0.0</td>\n",
       "      <td>0.0</td>\n",
       "      <td>0.0</td>\n",
       "      <td>0.0</td>\n",
       "      <td>1.0</td>\n",
       "      <td>0.0</td>\n",
       "      <td>0.0</td>\n",
       "      <td>0.0</td>\n",
       "    </tr>\n",
       "    <tr>\n",
       "      <th>1</th>\n",
       "      <td>Apple::اپل</td>\n",
       "      <td>Tehran</td>\n",
       "      <td>ایفون ٥اس٣٢گیگ</td>\n",
       "      <td>درحد نو سالم اصلى بدون ضربه مهلت تست میدم</td>\n",
       "      <td>Wednesday 11AM</td>\n",
       "      <td>1150000</td>\n",
       "      <td>0</td>\n",
       "      <td>1.0</td>\n",
       "      <td>0.0</td>\n",
       "      <td>0.0</td>\n",
       "      <td>...</td>\n",
       "      <td>0.0</td>\n",
       "      <td>0.0</td>\n",
       "      <td>0.0</td>\n",
       "      <td>0.0</td>\n",
       "      <td>0.0</td>\n",
       "      <td>0.0</td>\n",
       "      <td>0.0</td>\n",
       "      <td>0.0</td>\n",
       "      <td>0.0</td>\n",
       "      <td>1.0</td>\n",
       "    </tr>\n",
       "    <tr>\n",
       "      <th>2</th>\n",
       "      <td>Samsung::سامسونگ</td>\n",
       "      <td>Mashhad</td>\n",
       "      <td>سامسونگ j5</td>\n",
       "      <td>گوشى بسیار بسیار تمیز و فقط سه هفته کارکرده و ...</td>\n",
       "      <td>Wednesday 02PM</td>\n",
       "      <td>590000</td>\n",
       "      <td>2</td>\n",
       "      <td>0.0</td>\n",
       "      <td>0.0</td>\n",
       "      <td>0.0</td>\n",
       "      <td>...</td>\n",
       "      <td>0.0</td>\n",
       "      <td>0.0</td>\n",
       "      <td>0.0</td>\n",
       "      <td>0.0</td>\n",
       "      <td>0.0</td>\n",
       "      <td>1.0</td>\n",
       "      <td>0.0</td>\n",
       "      <td>0.0</td>\n",
       "      <td>0.0</td>\n",
       "      <td>0.0</td>\n",
       "    </tr>\n",
       "    <tr>\n",
       "      <th>3</th>\n",
       "      <td>Apple::اپل</td>\n",
       "      <td>Karaj</td>\n",
       "      <td>گرى 5s ایفون  32گیگ</td>\n",
       "      <td>گلس پشت و رو .کارت اپل ای دی. لوازم جانبی اصلی...</td>\n",
       "      <td>Wednesday 04PM</td>\n",
       "      <td>1100000</td>\n",
       "      <td>3</td>\n",
       "      <td>1.0</td>\n",
       "      <td>0.0</td>\n",
       "      <td>0.0</td>\n",
       "      <td>...</td>\n",
       "      <td>0.0</td>\n",
       "      <td>0.0</td>\n",
       "      <td>0.0</td>\n",
       "      <td>1.0</td>\n",
       "      <td>0.0</td>\n",
       "      <td>0.0</td>\n",
       "      <td>0.0</td>\n",
       "      <td>0.0</td>\n",
       "      <td>0.0</td>\n",
       "      <td>0.0</td>\n",
       "    </tr>\n",
       "    <tr>\n",
       "      <th>4</th>\n",
       "      <td>Samsung::سامسونگ</td>\n",
       "      <td>Tehran</td>\n",
       "      <td>galaxy S5 Gold در حد آک</td>\n",
       "      <td>کاملا تمیز و بدون حتی 1 خط و خش\\nبه همراه گلاس...</td>\n",
       "      <td>Friday 01PM</td>\n",
       "      <td>900000</td>\n",
       "      <td>2</td>\n",
       "      <td>0.0</td>\n",
       "      <td>0.0</td>\n",
       "      <td>0.0</td>\n",
       "      <td>...</td>\n",
       "      <td>0.0</td>\n",
       "      <td>0.0</td>\n",
       "      <td>0.0</td>\n",
       "      <td>0.0</td>\n",
       "      <td>0.0</td>\n",
       "      <td>0.0</td>\n",
       "      <td>0.0</td>\n",
       "      <td>0.0</td>\n",
       "      <td>0.0</td>\n",
       "      <td>1.0</td>\n",
       "    </tr>\n",
       "  </tbody>\n",
       "</table>\n",
       "<p>5 rows × 25 columns</p>\n",
       "</div>"
      ],
      "text/plain": [
       "              brand     city                    title  \\\n",
       "0      Nokia::نوکیا      Qom                نوکیا6303   \n",
       "1        Apple::اپل   Tehran           ایفون ٥اس٣٢گیگ   \n",
       "2  Samsung::سامسونگ  Mashhad               سامسونگ j5   \n",
       "3        Apple::اپل    Karaj      گرى 5s ایفون  32گیگ   \n",
       "4  Samsung::سامسونگ   Tehran  galaxy S5 Gold در حد آک   \n",
       "\n",
       "                                                desc      created_at    price  \\\n",
       "0  سلام.یه گوشیه6303سالم که فقط دوتا خط کوچیک رو ...  Wednesday 07AM    60000   \n",
       "1          درحد نو سالم اصلى بدون ضربه مهلت تست میدم  Wednesday 11AM  1150000   \n",
       "2  گوشى بسیار بسیار تمیز و فقط سه هفته کارکرده و ...  Wednesday 02PM   590000   \n",
       "3  گلس پشت و رو .کارت اپل ای دی. لوازم جانبی اصلی...  Wednesday 04PM  1100000   \n",
       "4  کاملا تمیز و بدون حتی 1 خط و خش\\nبه همراه گلاس...     Friday 01PM   900000   \n",
       "\n",
       "   image_count  Apple::اپل  HTC::اچ‌تی‌سی  Huawei::هوآوی  ...  ZTE::زدتی‌ای  \\\n",
       "0            2         0.0            0.0            0.0  ...           0.0   \n",
       "1            0         1.0            0.0            0.0  ...           0.0   \n",
       "2            2         0.0            0.0            0.0  ...           0.0   \n",
       "3            3         1.0            0.0            0.0  ...           0.0   \n",
       "4            2         0.0            0.0            0.0  ...           0.0   \n",
       "\n",
       "   Ahvaz  Isfahan  Karaj  Kermanshah  Mashhad  Qom  Shiraz  Tabriz  Tehran  \n",
       "0    0.0      0.0    0.0         0.0      0.0  1.0     0.0     0.0     0.0  \n",
       "1    0.0      0.0    0.0         0.0      0.0  0.0     0.0     0.0     1.0  \n",
       "2    0.0      0.0    0.0         0.0      1.0  0.0     0.0     0.0     0.0  \n",
       "3    0.0      0.0    1.0         0.0      0.0  0.0     0.0     0.0     0.0  \n",
       "4    0.0      0.0    0.0         0.0      0.0  0.0     0.0     0.0     1.0  \n",
       "\n",
       "[5 rows x 25 columns]"
      ]
     },
     "execution_count": 5,
     "metadata": {},
     "output_type": "execute_result"
    }
   ],
   "source": [
    "data.head(5)"
   ]
  },
  {
   "cell_type": "code",
   "execution_count": 6,
   "metadata": {},
   "outputs": [],
   "source": [
    "mi = mutual_info_regression(data.iloc[:, 6:], data['price'])"
   ]
  },
  {
   "cell_type": "code",
   "execution_count": 7,
   "metadata": {},
   "outputs": [],
   "source": [
    "column_names = data.columns[6:]"
   ]
  },
  {
   "cell_type": "markdown",
   "metadata": {},
   "source": [
    "در این بخش با محاسبه‌ی Information Gain می‌خواهیم ببینیم که کدام ستون‌ها بیشترین یا کم‌ترین اثر را بر یادگیری دارند. البته باید به این نکته اشاره کرد که در این بخش فقط دسته‌هایی که انکود شده‌اند و هم‌چنین ستون تعداد تصاویر وارد این مقایسه شده‌اند؛ چون داده‌های متنی در این بخش قابل استفاده نیستند. هم‌چنین با کمی تفکر می‌توان به این نتیجه رسید که روز و ساعت هفته نمی‌تواند اثری بر قیمت ثبت‌شده‌ی یک آگهی داشته باشد. بنابراین از ستون created_at هیچ استفاده‌ای در روند این پروژه نشده است. با همین استدلال می‌توان ستون image_count را هم بی‌معنی خواند ولی به هر حال در نمودار زیر می‌بینیم که این ستون می‌تواند مقدار خیلی کمی اثرگذار باشد."
   ]
  },
  {
   "cell_type": "code",
   "execution_count": 8,
   "metadata": {},
   "outputs": [
    {
     "data": {
      "image/png": "[encoded data removed]",
      "text/plain": [
       "<Figure size 3000x1500 with 1 Axes>"
      ]
     },
     "metadata": {},
     "output_type": "display_data"
    }
   ],
   "source": [
    "import matplotlib.pyplot as plt\n",
    "from matplotlib.pyplot import figure\n",
    "figure(num=None, figsize=(10, 5), dpi=300, facecolor='w', edgecolor='k')\n",
    "plt.barh(range(len(column_names)), mi, color='green')\n",
    "plt.ylabel(\"Column\")\n",
    "plt.xlabel(\"Information Gain\")\n",
    "plt.title(\"Mutual Information Gain with Respect to 'Price'\")\n",
    "plt.yticks(range(len(column_names)), column_names)\n",
    "plt.show()"
   ]
  },
  {
   "cell_type": "markdown",
   "metadata": {},
   "source": [
    "در این قسمت از یک scaler بهره می‌گیریم تا با استفاده از آن داده‌ها را scale کنیم. علت انجام این کار این است که ارزش عددی را از داده‌ها سلب کنیم و در مدلی مانند K Nearest Neighbors که بر مبنای فاصله‌های عددی کار می‌کند، تمامی featureها در یک مقیاس باشند تا از وزن‌دهی ناخواسته به آن‌ها براثر عدم تطابق مقیاس‌ها جلوگیری شود و هر feature مشارکتی برابر با بقیه در محاسبه‌ی فواصل داشته باشد."
   ]
  },
  {
   "cell_type": "code",
   "execution_count": 9,
   "metadata": {},
   "outputs": [],
   "source": [
    "from sklearn.preprocessing import StandardScaler\n",
    "\n",
    "scaler = StandardScaler()\n",
    "\n",
    "data['image_count'] = scaler.fit_transform(data['image_count'].values.reshape(-1, 1))"
   ]
  },
  {
   "cell_type": "code",
   "execution_count": 10,
   "metadata": {},
   "outputs": [
    {
     "data": {
      "text/html": [
       "<div>\n",
       "<style scoped>\n",
       "    .dataframe tbody tr th:only-of-type {\n",
       "        vertical-align: middle;\n",
       "    }\n",
       "\n",
       "    .dataframe tbody tr th {\n",
       "        vertical-align: top;\n",
       "    }\n",
       "\n",
       "    .dataframe thead th {\n",
       "        text-align: right;\n",
       "    }\n",
       "</style>\n",
       "<table border=\"1\" class=\"dataframe\">\n",
       "  <thead>\n",
       "    <tr style=\"text-align: right;\">\n",
       "      <th></th>\n",
       "      <th>brand</th>\n",
       "      <th>city</th>\n",
       "      <th>title</th>\n",
       "      <th>desc</th>\n",
       "      <th>created_at</th>\n",
       "      <th>price</th>\n",
       "      <th>image_count</th>\n",
       "      <th>Apple::اپل</th>\n",
       "      <th>HTC::اچ‌تی‌سی</th>\n",
       "      <th>Huawei::هوآوی</th>\n",
       "      <th>...</th>\n",
       "      <th>ZTE::زدتی‌ای</th>\n",
       "      <th>Ahvaz</th>\n",
       "      <th>Isfahan</th>\n",
       "      <th>Karaj</th>\n",
       "      <th>Kermanshah</th>\n",
       "      <th>Mashhad</th>\n",
       "      <th>Qom</th>\n",
       "      <th>Shiraz</th>\n",
       "      <th>Tabriz</th>\n",
       "      <th>Tehran</th>\n",
       "    </tr>\n",
       "  </thead>\n",
       "  <tbody>\n",
       "    <tr>\n",
       "      <th>0</th>\n",
       "      <td>Nokia::نوکیا</td>\n",
       "      <td>Qom</td>\n",
       "      <td>نوکیا6303</td>\n",
       "      <td>سلام.یه گوشیه6303سالم که فقط دوتا خط کوچیک رو ...</td>\n",
       "      <td>Wednesday 07AM</td>\n",
       "      <td>60000</td>\n",
       "      <td>0.26035</td>\n",
       "      <td>0.0</td>\n",
       "      <td>0.0</td>\n",
       "      <td>0.0</td>\n",
       "      <td>...</td>\n",
       "      <td>0.0</td>\n",
       "      <td>0.0</td>\n",
       "      <td>0.0</td>\n",
       "      <td>0.0</td>\n",
       "      <td>0.0</td>\n",
       "      <td>0.0</td>\n",
       "      <td>1.0</td>\n",
       "      <td>0.0</td>\n",
       "      <td>0.0</td>\n",
       "      <td>0.0</td>\n",
       "    </tr>\n",
       "    <tr>\n",
       "      <th>1</th>\n",
       "      <td>Apple::اپل</td>\n",
       "      <td>Tehran</td>\n",
       "      <td>ایفون ٥اس٣٢گیگ</td>\n",
       "      <td>درحد نو سالم اصلى بدون ضربه مهلت تست میدم</td>\n",
       "      <td>Wednesday 11AM</td>\n",
       "      <td>1150000</td>\n",
       "      <td>-1.19809</td>\n",
       "      <td>1.0</td>\n",
       "      <td>0.0</td>\n",
       "      <td>0.0</td>\n",
       "      <td>...</td>\n",
       "      <td>0.0</td>\n",
       "      <td>0.0</td>\n",
       "      <td>0.0</td>\n",
       "      <td>0.0</td>\n",
       "      <td>0.0</td>\n",
       "      <td>0.0</td>\n",
       "      <td>0.0</td>\n",
       "      <td>0.0</td>\n",
       "      <td>0.0</td>\n",
       "      <td>1.0</td>\n",
       "    </tr>\n",
       "    <tr>\n",
       "      <th>2</th>\n",
       "      <td>Samsung::سامسونگ</td>\n",
       "      <td>Mashhad</td>\n",
       "      <td>سامسونگ j5</td>\n",
       "      <td>گوشى بسیار بسیار تمیز و فقط سه هفته کارکرده و ...</td>\n",
       "      <td>Wednesday 02PM</td>\n",
       "      <td>590000</td>\n",
       "      <td>0.26035</td>\n",
       "      <td>0.0</td>\n",
       "      <td>0.0</td>\n",
       "      <td>0.0</td>\n",
       "      <td>...</td>\n",
       "      <td>0.0</td>\n",
       "      <td>0.0</td>\n",
       "      <td>0.0</td>\n",
       "      <td>0.0</td>\n",
       "      <td>0.0</td>\n",
       "      <td>1.0</td>\n",
       "      <td>0.0</td>\n",
       "      <td>0.0</td>\n",
       "      <td>0.0</td>\n",
       "      <td>0.0</td>\n",
       "    </tr>\n",
       "    <tr>\n",
       "      <th>3</th>\n",
       "      <td>Apple::اپل</td>\n",
       "      <td>Karaj</td>\n",
       "      <td>گرى 5s ایفون  32گیگ</td>\n",
       "      <td>گلس پشت و رو .کارت اپل ای دی. لوازم جانبی اصلی...</td>\n",
       "      <td>Wednesday 04PM</td>\n",
       "      <td>1100000</td>\n",
       "      <td>0.98957</td>\n",
       "      <td>1.0</td>\n",
       "      <td>0.0</td>\n",
       "      <td>0.0</td>\n",
       "      <td>...</td>\n",
       "      <td>0.0</td>\n",
       "      <td>0.0</td>\n",
       "      <td>0.0</td>\n",
       "      <td>1.0</td>\n",
       "      <td>0.0</td>\n",
       "      <td>0.0</td>\n",
       "      <td>0.0</td>\n",
       "      <td>0.0</td>\n",
       "      <td>0.0</td>\n",
       "      <td>0.0</td>\n",
       "    </tr>\n",
       "    <tr>\n",
       "      <th>4</th>\n",
       "      <td>Samsung::سامسونگ</td>\n",
       "      <td>Tehran</td>\n",
       "      <td>galaxy S5 Gold در حد آک</td>\n",
       "      <td>کاملا تمیز و بدون حتی 1 خط و خش\\nبه همراه گلاس...</td>\n",
       "      <td>Friday 01PM</td>\n",
       "      <td>900000</td>\n",
       "      <td>0.26035</td>\n",
       "      <td>0.0</td>\n",
       "      <td>0.0</td>\n",
       "      <td>0.0</td>\n",
       "      <td>...</td>\n",
       "      <td>0.0</td>\n",
       "      <td>0.0</td>\n",
       "      <td>0.0</td>\n",
       "      <td>0.0</td>\n",
       "      <td>0.0</td>\n",
       "      <td>0.0</td>\n",
       "      <td>0.0</td>\n",
       "      <td>0.0</td>\n",
       "      <td>0.0</td>\n",
       "      <td>1.0</td>\n",
       "    </tr>\n",
       "  </tbody>\n",
       "</table>\n",
       "<p>5 rows × 25 columns</p>\n",
       "</div>"
      ],
      "text/plain": [
       "              brand     city                    title  \\\n",
       "0      Nokia::نوکیا      Qom                نوکیا6303   \n",
       "1        Apple::اپل   Tehran           ایفون ٥اس٣٢گیگ   \n",
       "2  Samsung::سامسونگ  Mashhad               سامسونگ j5   \n",
       "3        Apple::اپل    Karaj      گرى 5s ایفون  32گیگ   \n",
       "4  Samsung::سامسونگ   Tehran  galaxy S5 Gold در حد آک   \n",
       "\n",
       "                                                desc      created_at    price  \\\n",
       "0  سلام.یه گوشیه6303سالم که فقط دوتا خط کوچیک رو ...  Wednesday 07AM    60000   \n",
       "1          درحد نو سالم اصلى بدون ضربه مهلت تست میدم  Wednesday 11AM  1150000   \n",
       "2  گوشى بسیار بسیار تمیز و فقط سه هفته کارکرده و ...  Wednesday 02PM   590000   \n",
       "3  گلس پشت و رو .کارت اپل ای دی. لوازم جانبی اصلی...  Wednesday 04PM  1100000   \n",
       "4  کاملا تمیز و بدون حتی 1 خط و خش\\nبه همراه گلاس...     Friday 01PM   900000   \n",
       "\n",
       "   image_count  Apple::اپل  HTC::اچ‌تی‌سی  Huawei::هوآوی  ...  ZTE::زدتی‌ای  \\\n",
       "0      0.26035         0.0            0.0            0.0  ...           0.0   \n",
       "1     -1.19809         1.0            0.0            0.0  ...           0.0   \n",
       "2      0.26035         0.0            0.0            0.0  ...           0.0   \n",
       "3      0.98957         1.0            0.0            0.0  ...           0.0   \n",
       "4      0.26035         0.0            0.0            0.0  ...           0.0   \n",
       "\n",
       "   Ahvaz  Isfahan  Karaj  Kermanshah  Mashhad  Qom  Shiraz  Tabriz  Tehran  \n",
       "0    0.0      0.0    0.0         0.0      0.0  1.0     0.0     0.0     0.0  \n",
       "1    0.0      0.0    0.0         0.0      0.0  0.0     0.0     0.0     1.0  \n",
       "2    0.0      0.0    0.0         0.0      1.0  0.0     0.0     0.0     0.0  \n",
       "3    0.0      0.0    1.0         0.0      0.0  0.0     0.0     0.0     0.0  \n",
       "4    0.0      0.0    0.0         0.0      0.0  0.0     0.0     0.0     1.0  \n",
       "\n",
       "[5 rows x 25 columns]"
      ]
     },
     "execution_count": 10,
     "metadata": {},
     "output_type": "execute_result"
    }
   ],
   "source": [
    "data.head(5)"
   ]
  },
  {
   "cell_type": "markdown",
   "metadata": {},
   "source": [
    "در این مرحله اقدام به پیش‌پردازش داده‌های متنی می‌کنیم. کارهایی که در این بخش انجام می‌شوند به شرح زیر هستند:\n",
    "- تبدیل حروف بزرگ به حروف کوچک\n",
    "- حذف فواصل اضافی\n",
    "- تبدیل اعداد فارسی به انگلیسی\n",
    "- حذف نشانه‌ها\n",
    "- حذف واژگان توقف (stop words)\n",
    "- استفاده از stemmer برای پیداکردن ریشه‌ی کلمات\n",
    "\n",
    "این مراحل بر روی دو ستون title و desc انجام می‌شوند تا در مراحل بعدی بتوانیم بهتر از آن‌ها استفاده کنیم."
   ]
  },
  {
   "cell_type": "code",
   "execution_count": 11,
   "metadata": {},
   "outputs": [],
   "source": [
    "def _multiple_replace(mapping, text):\n",
    "    pattern = \"|\".join(map(re.escape, mapping.keys()))\n",
    "    return re.sub(pattern, lambda m: mapping[m.group()], str(text))\n",
    "\n",
    "def convert_fa_numbers(input_str):\n",
    "    \"\"\"\n",
    "    This function convert Persian numbers to English numbers.\n",
    "    \n",
    "    Keyword arguments:\n",
    "    input_str -- It should be string\n",
    "    Returns: English numbers\n",
    "    \"\"\"\n",
    "    mapping = {\n",
    "        '۰': '0',\n",
    "        '۱': '1',\n",
    "        '۲': '2',\n",
    "        '۳': '3',\n",
    "        '۴': '4',\n",
    "        '۵': '5',\n",
    "        '۶': '6',\n",
    "        '۷': '7',\n",
    "        '۸': '8',\n",
    "        '۹': '9',\n",
    "        '.': '.',\n",
    "        '١': '1',\n",
    "        '٢': '2',\n",
    "        '٣': '3',\n",
    "        '٤': '4',\n",
    "        '٥': '5',\n",
    "        '٦': '6',\n",
    "        '٧': '7',\n",
    "        '٨': '8',\n",
    "        '٩': '9',\n",
    "        '٠': '0',\n",
    "    }\n",
    "    return _multiple_replace(mapping, input_str)"
   ]
  },
  {
   "cell_type": "code",
   "execution_count": 12,
   "metadata": {},
   "outputs": [],
   "source": [
    "with open(\"persian\", encoding = \"utf-8\") as f:\n",
    "    stopwords = [line.rstrip() for line in f]\n",
    "stopwords = set(stopwords)\n",
    "\n",
    "def preprocess(text):\n",
    "    new_text = str(text).lower()\n",
    "    new_text = convert_fa_numbers(new_text)\n",
    "    new_text = new_text.strip()\n",
    "    for ch in string.punctuation:\n",
    "        new_text = new_text.replace(ch, \" \")\n",
    "    new_text = ' '.join(new_text.split())\n",
    "    nt = [w for w in new_text.split() if w not in stopwords]\n",
    "    stemmer = Stemmer()\n",
    "    stemmed_nt = [stemmer.stem(w) for w in nt]\n",
    "    \n",
    "    return ' '.join([w for w in nt if len(w) > 1])\n",
    "\n",
    "data['desc'] = data['desc'].apply(preprocess)\n",
    "data['title'] = data['title'].apply(preprocess)"
   ]
  },
  {
   "cell_type": "code",
   "execution_count": 13,
   "metadata": {},
   "outputs": [
    {
     "name": "stdout",
     "output_type": "stream",
     "text": [
      "<class 'pandas.core.frame.DataFrame'>\n",
      "RangeIndex: 59189 entries, 0 to 59188\n",
      "Data columns (total 25 columns):\n",
      " #   Column            Non-Null Count  Dtype  \n",
      "---  ------            --------------  -----  \n",
      " 0   brand             59189 non-null  object \n",
      " 1   city              59189 non-null  object \n",
      " 2   title             59189 non-null  object \n",
      " 3   desc              59189 non-null  object \n",
      " 4   created_at        59189 non-null  object \n",
      " 5   price             59189 non-null  int64  \n",
      " 6   image_count       59189 non-null  float64\n",
      " 7   Apple::اپل        59189 non-null  float64\n",
      " 8   HTC::اچ‌تی‌سی     59189 non-null  float64\n",
      " 9   Huawei::هوآوی     59189 non-null  float64\n",
      " 10  LG::ال‌جی         59189 non-null  float64\n",
      " 11  Lenovo::لنوو      59189 non-null  float64\n",
      " 12  Nokia::نوکیا      59189 non-null  float64\n",
      " 13  Samsung::سامسونگ  59189 non-null  float64\n",
      " 14  Sony::سونی        59189 non-null  float64\n",
      " 15  ZTE::زدتی‌ای      59189 non-null  float64\n",
      " 16  Ahvaz             59189 non-null  float64\n",
      " 17  Isfahan           59189 non-null  float64\n",
      " 18  Karaj             59189 non-null  float64\n",
      " 19  Kermanshah        59189 non-null  float64\n",
      " 20  Mashhad           59189 non-null  float64\n",
      " 21  Qom               59189 non-null  float64\n",
      " 22  Shiraz            59189 non-null  float64\n",
      " 23  Tabriz            59189 non-null  float64\n",
      " 24  Tehran            59189 non-null  float64\n",
      "dtypes: float64(19), int64(1), object(5)\n",
      "memory usage: 11.3+ MB\n"
     ]
    }
   ],
   "source": [
    "data.info()"
   ]
  },
  {
   "cell_type": "code",
   "execution_count": 14,
   "metadata": {},
   "outputs": [
    {
     "data": {
      "text/html": [
       "<div>\n",
       "<style scoped>\n",
       "    .dataframe tbody tr th:only-of-type {\n",
       "        vertical-align: middle;\n",
       "    }\n",
       "\n",
       "    .dataframe tbody tr th {\n",
       "        vertical-align: top;\n",
       "    }\n",
       "\n",
       "    .dataframe thead th {\n",
       "        text-align: right;\n",
       "    }\n",
       "</style>\n",
       "<table border=\"1\" class=\"dataframe\">\n",
       "  <thead>\n",
       "    <tr style=\"text-align: right;\">\n",
       "      <th></th>\n",
       "      <th>title</th>\n",
       "      <th>desc</th>\n",
       "    </tr>\n",
       "  </thead>\n",
       "  <tbody>\n",
       "    <tr>\n",
       "      <th>0</th>\n",
       "      <td>نوکیا6303</td>\n",
       "      <td>سلام گوشیه6303سالم دوتا خط کوچیک ال سی دیشه شا...</td>\n",
       "    </tr>\n",
       "    <tr>\n",
       "      <th>1</th>\n",
       "      <td>ایفون 5اس32گیگ</td>\n",
       "      <td>درحد نو سالم اصلى ضربه مهلت تست میدم</td>\n",
       "    </tr>\n",
       "    <tr>\n",
       "      <th>2</th>\n",
       "      <td>سامسونگ j5</td>\n",
       "      <td>گوشى تمیز سه هفته کارکرده حد آک</td>\n",
       "    </tr>\n",
       "    <tr>\n",
       "      <th>3</th>\n",
       "      <td>گرى 5s ایفون 32گیگ</td>\n",
       "      <td>گلس کارت اپل دی لوازم جانبی اصلی معاوضه اندروی...</td>\n",
       "    </tr>\n",
       "    <tr>\n",
       "      <th>4</th>\n",
       "      <td>galaxy s5 gold حد آک</td>\n",
       "      <td>تمیز خط خش همراه گلاس قاب محافظ</td>\n",
       "    </tr>\n",
       "    <tr>\n",
       "      <th>5</th>\n",
       "      <td>8800 sirocco</td>\n",
       "      <td>تمیز لوازم گوشی اصل المان شارژر ایستاده،هندزفو...</td>\n",
       "    </tr>\n",
       "    <tr>\n",
       "      <th>6</th>\n",
       "      <td>معاوضه نوکیا 215 مودم 4g usb</td>\n",
       "      <td>فروش گوشی طرح نوکیا 215 گوشی طرح زرد رنگ دوسیم...</td>\n",
       "    </tr>\n",
       "    <tr>\n",
       "      <th>7</th>\n",
       "      <td>پریم گرند سالم</td>\n",
       "      <td>تعمیر نرفته</td>\n",
       "    </tr>\n",
       "    <tr>\n",
       "      <th>8</th>\n",
       "      <td>ایفون 64</td>\n",
       "      <td>ایفون تمیز لحاظ سالم</td>\n",
       "    </tr>\n",
       "    <tr>\n",
       "      <th>9</th>\n",
       "      <td>گوشی هواوی y625</td>\n",
       "      <td>گوشیو ضربه نخورده وبه شرت میدم</td>\n",
       "    </tr>\n",
       "    <tr>\n",
       "      <th>10</th>\n",
       "      <td>5sايفون</td>\n",
       "      <td>گوشی صحیح وسالم واصلی میباشد واقعیت نمیکنم میخ...</td>\n",
       "    </tr>\n",
       "    <tr>\n",
       "      <th>11</th>\n",
       "      <td>lg g3فروش معاوضه</td>\n",
       "      <td>سلام گوشی 16 گیگه گارانتی داره عکس مشخصه تمیزه...</td>\n",
       "    </tr>\n",
       "    <tr>\n",
       "      <th>12</th>\n",
       "      <td>ایفونse16گیگ</td>\n",
       "      <td>گوشی 2روز خریداری قاب سیلیکو گلس درجه اپل ایدی</td>\n",
       "    </tr>\n",
       "    <tr>\n",
       "      <th>13</th>\n",
       "      <td>فروش s3 neo</td>\n",
       "      <td>گوشی خط خش سالم دلیل تعویض گوشی قصد فروش رنگ ک...</td>\n",
       "    </tr>\n",
       "    <tr>\n",
       "      <th>14</th>\n",
       "      <td>هواوی هونورفورc</td>\n",
       "      <td>گوشی تمیز تعمیرنرفته ازنزدیک ببینیش بااک فرقی ...</td>\n",
       "    </tr>\n",
       "    <tr>\n",
       "      <th>15</th>\n",
       "      <td>گوشی هوایی جی 730بدون خط وخش</td>\n",
       "      <td>گوش هوایی جی730تمیز کاربدون خط وخش فروش یامعاو...</td>\n",
       "    </tr>\n",
       "    <tr>\n",
       "      <th>16</th>\n",
       "      <td>گوشی asus zenfone2</td>\n",
       "      <td>گوشی3 روزه دستمه رم قدرتمند گیگ حافظه داخلی 64...</td>\n",
       "    </tr>\n",
       "    <tr>\n",
       "      <th>17</th>\n",
       "      <td>اس 5تک سیم 16 گیگ</td>\n",
       "      <td>سامسونگ اس تک سیم 16 گیگ سالم باطری سالم شارژر...</td>\n",
       "    </tr>\n",
       "    <tr>\n",
       "      <th>18</th>\n",
       "      <td>ایفون5بردش سوخته بخونید</td>\n",
       "      <td>ll اصلی وقط 300هزار تومان خرج داره ممنون سایت ...</td>\n",
       "    </tr>\n",
       "    <tr>\n",
       "      <th>19</th>\n",
       "      <td>ایفون اس 64در حد اک وسایل</td>\n",
       "      <td>هندزفری پلمب،گلس 3دی گلس پشت،محافظ دوربین محاف...</td>\n",
       "    </tr>\n",
       "  </tbody>\n",
       "</table>\n",
       "</div>"
      ],
      "text/plain": [
       "                           title  \\\n",
       "0                      نوکیا6303   \n",
       "1                 ایفون 5اس32گیگ   \n",
       "2                     سامسونگ j5   \n",
       "3             گرى 5s ایفون 32گیگ   \n",
       "4           galaxy s5 gold حد آک   \n",
       "5                   8800 sirocco   \n",
       "6   معاوضه نوکیا 215 مودم 4g usb   \n",
       "7                 پریم گرند سالم   \n",
       "8                       ایفون 64   \n",
       "9                گوشی هواوی y625   \n",
       "10                       5sايفون   \n",
       "11              lg g3فروش معاوضه   \n",
       "12                  ایفونse16گیگ   \n",
       "13                   فروش s3 neo   \n",
       "14               هواوی هونورفورc   \n",
       "15  گوشی هوایی جی 730بدون خط وخش   \n",
       "16            گوشی asus zenfone2   \n",
       "17             اس 5تک سیم 16 گیگ   \n",
       "18       ایفون5بردش سوخته بخونید   \n",
       "19     ایفون اس 64در حد اک وسایل   \n",
       "\n",
       "                                                 desc  \n",
       "0   سلام گوشیه6303سالم دوتا خط کوچیک ال سی دیشه شا...  \n",
       "1                درحد نو سالم اصلى ضربه مهلت تست میدم  \n",
       "2                     گوشى تمیز سه هفته کارکرده حد آک  \n",
       "3   گلس کارت اپل دی لوازم جانبی اصلی معاوضه اندروی...  \n",
       "4                     تمیز خط خش همراه گلاس قاب محافظ  \n",
       "5   تمیز لوازم گوشی اصل المان شارژر ایستاده،هندزفو...  \n",
       "6   فروش گوشی طرح نوکیا 215 گوشی طرح زرد رنگ دوسیم...  \n",
       "7                                         تعمیر نرفته  \n",
       "8                                ایفون تمیز لحاظ سالم  \n",
       "9                      گوشیو ضربه نخورده وبه شرت میدم  \n",
       "10  گوشی صحیح وسالم واصلی میباشد واقعیت نمیکنم میخ...  \n",
       "11  سلام گوشی 16 گیگه گارانتی داره عکس مشخصه تمیزه...  \n",
       "12     گوشی 2روز خریداری قاب سیلیکو گلس درجه اپل ایدی  \n",
       "13  گوشی خط خش سالم دلیل تعویض گوشی قصد فروش رنگ ک...  \n",
       "14  گوشی تمیز تعمیرنرفته ازنزدیک ببینیش بااک فرقی ...  \n",
       "15  گوش هوایی جی730تمیز کاربدون خط وخش فروش یامعاو...  \n",
       "16  گوشی3 روزه دستمه رم قدرتمند گیگ حافظه داخلی 64...  \n",
       "17  سامسونگ اس تک سیم 16 گیگ سالم باطری سالم شارژر...  \n",
       "18  ll اصلی وقط 300هزار تومان خرج داره ممنون سایت ...  \n",
       "19  هندزفری پلمب،گلس 3دی گلس پشت،محافظ دوربین محاف...  "
      ]
     },
     "execution_count": 14,
     "metadata": {},
     "output_type": "execute_result"
    }
   ],
   "source": [
    "data[['title', 'desc']].head(20)"
   ]
  },
  {
   "cell_type": "code",
   "execution_count": 15,
   "metadata": {},
   "outputs": [],
   "source": [
    "# data['english'] = data['desc'].apply(lambda text : (\" \".join(re.findall(\"([a-zA-Z][a-zA-Z0-9_@]+|[0-9_@][a-zA-Z0-9_@]*[a-zA-Z])\", text))).split()) + data['title'].apply(lambda text : (\" \".join(re.findall(\"([a-zA-Z][a-zA-Z0-9_@]+|[0-9_@][a-zA-Z0-9_@]*[a-zA-Z])\", text))).split())\n",
    "# data['english'] = data['english'].apply(lambda l : list(set(l)))\n",
    "# data['english'] = data['english'].apply(lambda w : [s.lower() for s in w])"
   ]
  },
  {
   "cell_type": "markdown",
   "metadata": {},
   "source": [
    "در این قسمت اقدام به جداسازی آگهی‌هایی می‌کنیم که قیمت برای آن‌ها ثبت نشده است تا بتوانیم باقی آگهی‌ها را به دسته‌های آموزش و آزمون تقسیم کنیم."
   ]
  },
  {
   "cell_type": "code",
   "execution_count": 16,
   "metadata": {},
   "outputs": [],
   "source": [
    "seen_data = data[data['price'] != -1]\n",
    "seen_data = seen_data.copy()\n",
    "unseen_data = data[data['price'] == -1]\n",
    "unseen_data = unseen_data.copy()"
   ]
  },
  {
   "cell_type": "markdown",
   "metadata": {},
   "source": [
    "از آن‌جا که تعداد واژگان مورداستفاده در این مجموعه‌ی داده زیاد است، نیاز داریم که تنها واژگانی را نگه داریم که استفاده‌ی آن‌ها کم‌تر از یک حدی نیست تا بدین شکل واژگانی که اثر خاصی بر یادگیری ندارند یا حذف کنیم. در این‌جا واژگانی که استفاده‌ی آن‌ها بیش از ۵۰ بار است را برگزیده‌ایم."
   ]
  },
  {
   "cell_type": "code",
   "execution_count": 17,
   "metadata": {},
   "outputs": [],
   "source": [
    "from collections import defaultdict\n",
    "count = defaultdict(int)\n",
    "\n",
    "for index, row in seen_data.iterrows():\n",
    "    words = row['title'].split() + row['desc'].split()\n",
    "    for w in words:\n",
    "        count[w] = count[w] + 1\n",
    "words_count = [(k, v) for k, v in count.items() if v > 50]\n",
    "words_count.sort(key=lambda tup: tup[1], reverse = True)\n",
    "top_words = [k for k, v in words_count]"
   ]
  },
  {
   "cell_type": "code",
   "execution_count": 18,
   "metadata": {},
   "outputs": [
    {
     "name": "stdout",
     "output_type": "stream",
     "text": [
      "['گوشی', 'سالم', 'تمیز', 'سامسونگ', 'خط', 'نو', 'خش', 'حد', 'معاوضه', 'گیگ', 'رنگ', 'دوربین', 'اس', 'فروش', 'قیمت', 'داره', 'موبایل', 'تخفیف', 'تماس', 'سلام', '16', 'ایفون', 'همراه', 'سیم', 'شارژر', 'میدم', 'قاب', 'حافظه', 'اصلی', 'گلس']\n"
     ]
    }
   ],
   "source": [
    "print(top_words[:30])"
   ]
  },
  {
   "cell_type": "code",
   "execution_count": 19,
   "metadata": {},
   "outputs": [
    {
     "data": {
      "text/plain": [
       "1312"
      ]
     },
     "execution_count": 19,
     "metadata": {},
     "output_type": "execute_result"
    }
   ],
   "source": [
    "len(top_words)"
   ]
  },
  {
   "cell_type": "code",
   "execution_count": 20,
   "metadata": {},
   "outputs": [],
   "source": [
    "top_english_words = []\n",
    "for w in top_words:\n",
    "    if re.match(\"([a-zA-Z][a-zA-Z0-9_@]+|[0-9_@][a-zA-Z0-9_@]*[a-zA-Z])\", w):\n",
    "        top_english_words.append(w)"
   ]
  },
  {
   "cell_type": "code",
   "execution_count": 21,
   "metadata": {},
   "outputs": [
    {
     "name": "stdout",
     "output_type": "stream",
     "text": [
      "['iphone', '5s', '4g', '6s', 'lla', 'htc', 'num', 'gold', 'samsung', 'galaxy', 's6', '16g', 'lg', '3g', '4s', 'gray', 'sony', 'j7', 'apple', 's5', 'huawei', 'edge', 's4', 'a5', 's7', 'j5', 's3', 'plus', '64g', '32g']\n"
     ]
    }
   ],
   "source": [
    "print(top_english_words[:30])"
   ]
  },
  {
   "cell_type": "code",
   "execution_count": 22,
   "metadata": {},
   "outputs": [
    {
     "data": {
      "text/plain": [
       "201"
      ]
     },
     "execution_count": 22,
     "metadata": {},
     "output_type": "execute_result"
    }
   ],
   "source": [
    "len(top_english_words)"
   ]
  },
  {
   "cell_type": "markdown",
   "metadata": {},
   "source": [
    "توابعی را جهت تسهیل در محاسبه و نمایش متریک‌های سنجش دقت مدل تعریف می‌کنیم:"
   ]
  },
  {
   "cell_type": "code",
   "execution_count": 28,
   "metadata": {},
   "outputs": [],
   "source": [
    "from sklearn.metrics import mean_absolute_error, mean_squared_error\n",
    "def calc_metrics(y_act, y_pred):\n",
    "    return int(mean_absolute_error(y_act, y_pred)), int(mean_squared_error(y_act, y_pred)), int(mean_squared_error(y_act, y_pred, squared=False))\n",
    "\n",
    "def show_metrics(y_test, y_train, test_pred, train_pred):\n",
    "    mae, mse, rmse = calc_metrics(y_test, test_pred)\n",
    "    print(\"---------------------TEST DATA---------------------\")\n",
    "    print(\"Mean Absolute Error:     \", f'{mae:,}')\n",
    "    print(\"Mean Squared Error:      \", f'{mse:,}')\n",
    "    print(\"Root Mean Squared Error: \", f'{rmse:,}')\n",
    "    mae, mse, rmse = calc_metrics(y_train, train_pred)\n",
    "    print(\"---------------------TRAIN DATA--------------------\")\n",
    "    print(\"Mean Absolute Error:     \", f'{mae:,}')\n",
    "    print(\"Mean Squared Error:      \", f'{mse:,}')\n",
    "    print(\"Root Mean Squared Error: \", f'{rmse:,}')\n",
    "    print(\"---------------------------------------------------\")"
   ]
  },
  {
   "cell_type": "markdown",
   "metadata": {},
   "source": [
    "برای سنجش دقت از چند مدل مثل LinearRegression، KNeighborsRegressor و RandomForestRegressor استفاده می‌کنیم و سپس نتایج آن‌ها را با هم مقایسه می‌کنیم:"
   ]
  },
  {
   "cell_type": "code",
   "execution_count": 29,
   "metadata": {},
   "outputs": [],
   "source": [
    "from sklearn.pipeline import Pipeline\n",
    "from sklearn.linear_model import LinearRegression\n",
    "from sklearn.neighbors import KNeighborsRegressor\n",
    "from sklearn.ensemble import RandomForestRegressor\n",
    "from sklearn.model_selection import train_test_split"
   ]
  },
  {
   "cell_type": "code",
   "execution_count": 30,
   "metadata": {},
   "outputs": [
    {
     "data": {
      "text/plain": [
       "LinearRegression(normalize=True)"
      ]
     },
     "execution_count": 30,
     "metadata": {},
     "output_type": "execute_result"
    }
   ],
   "source": [
    "\n",
    "X = seen_data.iloc[:, 6:]\n",
    "y = seen_data['price']\n",
    "X_train, X_test, y_train, y_test = train_test_split(X, y, random_state = 42, test_size = 0.3)\n",
    "\n",
    "regressor = LinearRegression(normalize=True)\n",
    "regressor.fit(X_train, y_train)"
   ]
  },
  {
   "cell_type": "code",
   "execution_count": 31,
   "metadata": {},
   "outputs": [],
   "source": [
    "test_pred = regressor.predict(X_test)\n",
    "train_pred = regressor.predict(X_train)"
   ]
  },
  {
   "cell_type": "markdown",
   "metadata": {},
   "source": [
    "وقتی با استفاده از ستون‌های مربوط به شهر، برند و تعداد تصاویر از LinearRegression استفاده می‌کنیم، RMSE معادل ۴۴۶هزار تومان را به‌دست می‌آوریم. این رگرسور ساده‌ترین نوع رگرسور است. در مراحل بعدی دیگر مدل‌ها را نیز امتحان می‌کنیم تا برای افزایش دقت تلاش کنیم.\n",
    "\n",
    "دلیل عدم استفاده از متون این است که اگر بخواهیم از کلمات هم استفاده کنیم، تعداد featureها بسیار زیاد می‌شود و در نتیجه احتمال اورفیتینگ بالا می‌رود. لذا فعلاً تنها از ستون‌های گفته‌شده استفاده می‌کنیم. در ادامه از رفش TF-IDF برای استخراج feature از متون استفاده خواهیم کرد تا عملکرد آن را با حالت فعلی مقایسه کنیم."
   ]
  },
  {
   "cell_type": "code",
   "execution_count": 32,
   "metadata": {},
   "outputs": [
    {
     "name": "stdout",
     "output_type": "stream",
     "text": [
      "---------------------TEST DATA---------------------\n",
      "Mean Absolute Error:      337,522\n",
      "Mean Squared Error:       199,130,124,367\n",
      "Root Mean Squared Error:  446,239\n",
      "---------------------TRAIN DATA--------------------\n",
      "Mean Absolute Error:      338,121\n",
      "Mean Squared Error:       198,655,420,422\n",
      "Root Mean Squared Error:  445,707\n",
      "---------------------------------------------------\n"
     ]
    }
   ],
   "source": [
    "show_metrics(y_test, y_train, test_pred, train_pred)"
   ]
  },
  {
   "cell_type": "markdown",
   "metadata": {},
   "source": [
    "در این بخش از KNeighborsRegressor استفاده می‌کنیم و برای تعداد همسایه‌های متفاوت دقت آن را می‌سنجیم. طبق نمودار مشاهده می‌شود که کم‌ترین میزان خطای آن، تفاوتی با LinearRegression ندارد."
   ]
  },
  {
   "cell_type": "code",
   "execution_count": 33,
   "metadata": {},
   "outputs": [],
   "source": [
    "test_rmse=[]\n",
    "train_rmse=[]\n",
    "for n in range(1, 1000, 50):\n",
    "    regressor = KNeighborsRegressor(n_neighbors=n)\n",
    "    regressor.fit(X_train, y_train)\n",
    "    test_pred = regressor.predict(X_test)\n",
    "    train_pred = regressor.predict(X_train)\n",
    "    mae, mse, rmse = calc_metrics(y_test, test_pred)\n",
    "    test_rmse.append(rmse)\n",
    "    mae, mse, rmse = calc_metrics(y_train, train_pred)\n",
    "    train_rmse.append(rmse)"
   ]
  },
  {
   "cell_type": "code",
   "execution_count": 34,
   "metadata": {},
   "outputs": [
    {
     "data": {
      "image/png": "[encoded data removed]",
      "text/plain": [
       "<Figure size 432x288 with 1 Axes>"
      ]
     },
     "metadata": {
      "needs_background": "light"
     },
     "output_type": "display_data"
    }
   ],
   "source": [
    "plt.plot(range(0, 1000, 50), train_rmse, label='Train Data')\n",
    "plt.plot(range(0, 1000, 50), test_rmse, label='Test Data')\n",
    "plt.xlabel('Number of Neighbors')\n",
    "plt.ylabel('RMSE')\n",
    "plt.title('RMSE per number of neighbors in knn')\n",
    "plt.legend()\n",
    "plt.show()"
   ]
  },
  {
   "cell_type": "markdown",
   "metadata": {},
   "source": [
    "استفاده از RandomForestRegressor نیز تغییری در میزان خطای RMSE ایجاد نکرده است. از این موارد درمی‌یابیم که تغییر مدل با فیچرهایی که انتخاب کرده‌ایم چندان کارساز نیست. در نتیجه در بخش بعد از فیچرهای دیگری استفاده می‌کنیم. "
   ]
  },
  {
   "cell_type": "code",
   "execution_count": 35,
   "metadata": {},
   "outputs": [
    {
     "name": "stdout",
     "output_type": "stream",
     "text": [
      "---------------------TEST DATA---------------------\n",
      "Mean Absolute Error:      334,272\n",
      "Mean Squared Error:       197,093,933,556\n",
      "Root Mean Squared Error:  443,952\n",
      "---------------------TRAIN DATA--------------------\n",
      "Mean Absolute Error:      330,579\n",
      "Mean Squared Error:       192,716,319,623\n",
      "Root Mean Squared Error:  438,994\n",
      "---------------------------------------------------\n"
     ]
    }
   ],
   "source": [
    "regressor = RandomForestRegressor()\n",
    "regressor.fit(X_train, y_train)\n",
    "test_pred = regressor.predict(X_test)\n",
    "train_pred = regressor.predict(X_train)\n",
    "show_metrics(y_test, y_train, test_pred, train_pred)"
   ]
  },
  {
   "cell_type": "code",
   "execution_count": 36,
   "metadata": {},
   "outputs": [],
   "source": [
    "test_rmse=[]\n",
    "train_rmse=[]\n",
    "for n in [1, 5, 10, 50, 100]:\n",
    "    regressor = RandomForestRegressor(max_depth=n)\n",
    "    regressor.fit(X_train, y_train)\n",
    "    test_pred = regressor.predict(X_test)\n",
    "    train_pred = regressor.predict(X_train)\n",
    "    mae, mse, rmse = calc_metrics(y_test, test_pred)\n",
    "    test_rmse.append(rmse)\n",
    "    mae, mse, rmse = calc_metrics(y_train, train_pred)\n",
    "    train_rmse.append(rmse)"
   ]
  },
  {
   "cell_type": "code",
   "execution_count": 37,
   "metadata": {},
   "outputs": [
    {
     "data": {
      "image/png": "[encoded data removed]",
      "text/plain": [
       "<Figure size 432x288 with 1 Axes>"
      ]
     },
     "metadata": {
      "needs_background": "light"
     },
     "output_type": "display_data"
    }
   ],
   "source": [
    "plt.plot([1, 5, 10, 50, 100], train_rmse, label='Train Data')\n",
    "plt.plot([1, 5, 10, 50, 100], test_rmse, label='Test Data')\n",
    "plt.xlabel('Max Depth')\n",
    "plt.ylabel('RMSE')\n",
    "plt.title('RMSE per max depth in random forest')\n",
    "plt.legend()\n",
    "plt.show()"
   ]
  },
  {
   "cell_type": "markdown",
   "metadata": {},
   "source": [
    "در این قسمت اقدام به استفاده از ستون‌های متنی desc و title و استخراج فیچر از آن‌ها می‌کنیم. به این منظور با استفاده از تعداد تکرارهای کلماتی که قبلا به‌دست آورده بودیم، کلماتی که کم‌تر کاربرد داشته‌اند را حذف می‌کنیم تا باعث تسهیل در یادگیری شویم.\n",
    "\n",
    "روش استخراج فیچر از متون نیز روش TF-IDF است. در این روش ابتدا فرکانس تکرار هر کلمه در هر متن محاسبه می‌شود و سپس در معکوس تکرار کلمه در کل متون ضرب می‌شود. با این روش می‌توانیم به ازای هر کلمه در هر متن، میزان مرتبط بودن آن کلمه و متن را محاسبه کنیم و در واقع کلمات کلیدی متن را شناسایی کنیم که بسیار کمک‌کننده خواهد بود. حال فیچرهایی داریم که عددی هستند و از متون استخراج شده‌اند و می‌توانیم آن‌ها را به مدل‌های مختلف بدهیم و میزان دقتشان را بسنجیم."
   ]
  },
  {
   "cell_type": "code",
   "execution_count": 38,
   "metadata": {},
   "outputs": [],
   "source": [
    "data['title'] = data['title'].apply(lambda t : ' '.join([w for w in t.split() if w in top_words]))\n",
    "data['desc'] = data['desc'].apply(lambda t : ' '.join([w for w in t.split() if w in top_words]))\n",
    "seen_data['title'] = seen_data['title'].apply(lambda t : ' '.join([w for w in t.split() if w in top_words]))\n",
    "seen_data['desc'] = seen_data['desc'].apply(lambda t : ' '.join([w for w in t.split() if w in top_words]))\n",
    "data['text'] = data['title'] + ' ' + data['desc']\n",
    "seen_data['text'] = seen_data['title'] + ' ' + seen_data['desc'] + ' ' + seen_data['brand'] + ' ' + seen_data['city']\n",
    "X = seen_data['text']\n",
    "y = seen_data['price']\n",
    "X_train, X_test, y_train, y_test = train_test_split(X, y, random_state = 42, test_size = 0.3)"
   ]
  },
  {
   "cell_type": "markdown",
   "metadata": {},
   "source": [
    "حال داده‌های خروجی TF-IDF را در LinearRegression استفاده می‌کنیم و شاهد کاهش بسیار زیاد خطا هستیم. این نشان می‌دهد که فیچرهای جدید بسیار کارآمدتر هستند."
   ]
  },
  {
   "cell_type": "code",
   "execution_count": 39,
   "metadata": {},
   "outputs": [
    {
     "name": "stdout",
     "output_type": "stream",
     "text": [
      "---------------------TEST DATA---------------------\n",
      "Mean Absolute Error:      212,196\n",
      "Mean Squared Error:       92,649,618,523\n",
      "Root Mean Squared Error:  304,383\n",
      "---------------------TRAIN DATA--------------------\n",
      "Mean Absolute Error:      205,766\n",
      "Mean Squared Error:       85,888,060,818\n",
      "Root Mean Squared Error:  293,066\n",
      "---------------------------------------------------\n"
     ]
    }
   ],
   "source": [
    "from sklearn.feature_extraction.text import TfidfVectorizer\n",
    "regressor = Pipeline([('tfidf', TfidfVectorizer()), ('reg', LinearRegression()),])\n",
    "regressor.fit(X_train, y_train)\n",
    "test_pred = regressor.predict(X_test)\n",
    "train_pred = regressor.predict(X_train)\n",
    "show_metrics(y_test, y_train, test_pred, train_pred)"
   ]
  },
  {
   "cell_type": "markdown",
   "metadata": {},
   "source": [
    "همین کار را برای KNeighborsRegressor تکرار می‌کنیم و مشاهده می‌کنیم که باز هم دقت بالا رفته است. گرچه در این حالت نسبت به LinearRegression خطا کمی بیشتر است اما در حالت کلی شاهد بهبود هستیم. این کار را برای مقادیر تعداد همسایه‌های مختلف نیز انجام می‌دهیم تا از بهینه‌بودن پاسخ اطمینان حاصل کنیم.\n",
    "\n",
    "البته در این حالت شاهد پدیده‌ی overfitting هستیم که در بخش بعد تلاش می‌کنیم تا با تغییر تعداد همسایگان آن را از بین ببریم. تعداد پیش‌فرض همسایگان ۵ عدد است که همین باعث می‌شود مدل بسیار به داده‌های آموزشی وابسته شود و اورفیتینگ رخ دهد."
   ]
  },
  {
   "cell_type": "code",
   "execution_count": 40,
   "metadata": {},
   "outputs": [
    {
     "name": "stdout",
     "output_type": "stream",
     "text": [
      "---------------------TEST DATA---------------------\n",
      "Mean Absolute Error:      211,485\n",
      "Mean Squared Error:       107,752,807,183\n",
      "Root Mean Squared Error:  328,257\n",
      "---------------------TRAIN DATA--------------------\n",
      "Mean Absolute Error:      172,719\n",
      "Mean Squared Error:       70,968,691,644\n",
      "Root Mean Squared Error:  266,399\n",
      "---------------------------------------------------\n"
     ]
    }
   ],
   "source": [
    "regressor = Pipeline([('tfidf', TfidfVectorizer()), ('reg', KNeighborsRegressor()),])\n",
    "regressor.fit(X_train, y_train)\n",
    "test_pred = regressor.predict(X_test)\n",
    "train_pred = regressor.predict(X_train)\n",
    "show_metrics(y_test, y_train, test_pred, train_pred)"
   ]
  },
  {
   "cell_type": "code",
   "execution_count": 41,
   "metadata": {},
   "outputs": [],
   "source": [
    "test_rmse=[]\n",
    "train_rmse=[]\n",
    "for n in [1, 5, 10, 50, 100, 500]:\n",
    "    regressor = Pipeline([('tfidf', TfidfVectorizer()), ('reg', KNeighborsRegressor(n_neighbors=n)),])\n",
    "    regressor.fit(X_train, y_train)\n",
    "    test_pred = regressor.predict(X_test)\n",
    "    train_pred = regressor.predict(X_train)\n",
    "    mae, mse, rmse = calc_metrics(y_test, test_pred)\n",
    "    test_rmse.append(rmse)\n",
    "    mae, mse, rmse = calc_metrics(y_train, train_pred)\n",
    "    train_rmse.append(rmse)"
   ]
  },
  {
   "cell_type": "markdown",
   "metadata": {},
   "source": [
    "طبق نمودار زیر با افزایش تعداد همسایگان، مشکل اورفیتینگ حل می‌شود اما هم‌چنان خطا بیشتر از حالت قبل است."
   ]
  },
  {
   "cell_type": "code",
   "execution_count": 42,
   "metadata": {},
   "outputs": [
    {
     "data": {
      "image/png": "[encoded data removed]",
      "text/plain": [
       "<Figure size 432x288 with 1 Axes>"
      ]
     },
     "metadata": {
      "needs_background": "light"
     },
     "output_type": "display_data"
    }
   ],
   "source": [
    "plt.plot([1, 5, 10, 50, 100, 500], train_rmse, label='Train Data')\n",
    "plt.plot([1, 5, 10, 50, 100, 500], test_rmse, label='Test Data')\n",
    "plt.xlabel('Number of Neighbors')\n",
    "plt.ylabel('RMSE')\n",
    "plt.title('RMSE per number of neighbors in knn')\n",
    "plt.legend()\n",
    "plt.show()"
   ]
  },
  {
   "cell_type": "markdown",
   "metadata": {},
   "source": [
    "نهایتاً از RandomForestRegressor استفاده می‌کنیم ولی می‌بینیم که خطا کمی بیشتر از حالت‌های قبلی است که این می‌تواند به‌دلیل تعدد فیچرهای خروجی از TF-IDF باشد. "
   ]
  },
  {
   "cell_type": "code",
   "execution_count": 43,
   "metadata": {},
   "outputs": [
    {
     "name": "stdout",
     "output_type": "stream",
     "text": [
      "---------------------TEST DATA---------------------\n",
      "Mean Absolute Error:      241,911\n",
      "Mean Squared Error:       117,862,277,059\n",
      "Root Mean Squared Error:  343,310\n",
      "---------------------TRAIN DATA--------------------\n",
      "Mean Absolute Error:      232,271\n",
      "Mean Squared Error:       105,728,260,146\n",
      "Root Mean Squared Error:  325,158\n",
      "---------------------------------------------------\n"
     ]
    }
   ],
   "source": [
    "regressor = Pipeline([('tfidf', TfidfVectorizer()), ('reg', RandomForestRegressor(max_depth=10)),])\n",
    "regressor.fit(X_train, y_train)\n",
    "test_pred = regressor.predict(X_test)\n",
    "train_pred = regressor.predict(X_train)\n",
    "show_metrics(y_test, y_train, test_pred, train_pred)"
   ]
  },
  {
   "cell_type": "markdown",
   "metadata": {},
   "source": [
    "در پایان قیمت‌های واردنشده را با استفاده از مدل LinearRegression و استفاده از متد TF-IDF که کم‌ترین خطا را داشته پیش‌بینی می‌کنیم و در فایلی با نام out.csv ذخیره می‌کنیم. "
   ]
  },
  {
   "cell_type": "code",
   "execution_count": 44,
   "metadata": {},
   "outputs": [
    {
     "name": "stdout",
     "output_type": "stream",
     "text": [
      "---------------------TEST DATA---------------------\n",
      "Mean Absolute Error:      212,196\n",
      "Mean Squared Error:       92,649,618,523\n",
      "Root Mean Squared Error:  304,383\n",
      "---------------------TRAIN DATA--------------------\n",
      "Mean Absolute Error:      205,766\n",
      "Mean Squared Error:       85,888,060,818\n",
      "Root Mean Squared Error:  293,066\n",
      "---------------------------------------------------\n"
     ]
    }
   ],
   "source": [
    "from sklearn.feature_extraction.text import TfidfVectorizer\n",
    "regressor = Pipeline([('tfidf', TfidfVectorizer()), ('reg', LinearRegression()),])\n",
    "regressor.fit(X_train, y_train)\n",
    "test_pred = regressor.predict(X_test)\n",
    "train_pred = regressor.predict(X_train)\n",
    "show_metrics(y_test, y_train, test_pred, train_pred)"
   ]
  },
  {
   "cell_type": "code",
   "execution_count": 45,
   "metadata": {},
   "outputs": [],
   "source": [
    "unseen_data['title'] = unseen_data['title'].apply(lambda t : ' '.join([w for w in t.split() if w in top_words]))\n",
    "unseen_data['desc'] = unseen_data['desc'].apply(lambda t : ' '.join([w for w in t.split() if w in top_words]))\n",
    "unseen_data['text'] = unseen_data['title'] + ' ' + unseen_data['desc'] + ' ' + unseen_data['brand'] + ' ' + unseen_data['city']\n",
    "X_unseen = unseen_data['text']\n",
    "predictions = regressor.predict(X_unseen)"
   ]
  },
  {
   "cell_type": "code",
   "execution_count": 52,
   "metadata": {},
   "outputs": [],
   "source": [
    "unseen_data['price'] = predictions"
   ]
  },
  {
   "cell_type": "code",
   "execution_count": 53,
   "metadata": {},
   "outputs": [
    {
     "data": {
      "text/html": [
       "<div>\n",
       "<style scoped>\n",
       "    .dataframe tbody tr th:only-of-type {\n",
       "        vertical-align: middle;\n",
       "    }\n",
       "\n",
       "    .dataframe tbody tr th {\n",
       "        vertical-align: top;\n",
       "    }\n",
       "\n",
       "    .dataframe thead th {\n",
       "        text-align: right;\n",
       "    }\n",
       "</style>\n",
       "<table border=\"1\" class=\"dataframe\">\n",
       "  <thead>\n",
       "    <tr style=\"text-align: right;\">\n",
       "      <th></th>\n",
       "      <th>Unnamed: 0</th>\n",
       "      <th>brand</th>\n",
       "      <th>city</th>\n",
       "      <th>title</th>\n",
       "      <th>desc</th>\n",
       "      <th>image_count</th>\n",
       "      <th>created_at</th>\n",
       "      <th>price</th>\n",
       "    </tr>\n",
       "  </thead>\n",
       "  <tbody>\n",
       "    <tr>\n",
       "      <th>23</th>\n",
       "      <td>23</td>\n",
       "      <td>Samsung::سامسونگ</td>\n",
       "      <td>Karaj</td>\n",
       "      <td>A3 2015</td>\n",
       "      <td>گوشی در حده نو کلا 2 هفتس خریدمش.با تشکر از سا...</td>\n",
       "      <td>1</td>\n",
       "      <td>Tuesday 12PM</td>\n",
       "      <td>649944.393349</td>\n",
       "    </tr>\n",
       "    <tr>\n",
       "      <th>28</th>\n",
       "      <td>28</td>\n",
       "      <td>Apple::اپل</td>\n",
       "      <td>Qom</td>\n",
       "      <td>اپل 5s ٣٢ گیگ بسیار تمیز در حد</td>\n",
       "      <td>گوشی بسیار تمیز در حد قیمت مقطوع میباشد لطفا ت...</td>\n",
       "      <td>2</td>\n",
       "      <td>Saturday 04AM</td>\n",
       "      <td>875872.336302</td>\n",
       "    </tr>\n",
       "    <tr>\n",
       "      <th>32</th>\n",
       "      <td>32</td>\n",
       "      <td>Apple::اپل</td>\n",
       "      <td>Shiraz</td>\n",
       "      <td>اقساط٢٤ماهه بدون پیش پرداخت</td>\n",
       "      <td>اقساط ٢٤ماهه بدون پیش پرداخت</td>\n",
       "      <td>0</td>\n",
       "      <td>Sunday 03PM</td>\n",
       "      <td>635723.735156</td>\n",
       "    </tr>\n",
       "    <tr>\n",
       "      <th>36</th>\n",
       "      <td>37</td>\n",
       "      <td>Sony::سونی</td>\n",
       "      <td>Qom</td>\n",
       "      <td>سونی مدل acro s گوشی  هواوی y300</td>\n",
       "      <td>گوشی سونی مدل acro s دوربین 12 فیلمبرداری HD ,...</td>\n",
       "      <td>2</td>\n",
       "      <td>Thursday 06AM</td>\n",
       "      <td>56553.275691</td>\n",
       "    </tr>\n",
       "    <tr>\n",
       "      <th>44</th>\n",
       "      <td>46</td>\n",
       "      <td>HTC::اچ‌تی‌سی</td>\n",
       "      <td>Tehran</td>\n",
       "      <td>ّگوشی موبایل htc desire610 جهت معاوضه</td>\n",
       "      <td>معاوضه با ایفون 4\\nگوشیم سالم سالم 4g\\nبدون هی...</td>\n",
       "      <td>0</td>\n",
       "      <td>Monday 08PM</td>\n",
       "      <td>412181.516661</td>\n",
       "    </tr>\n",
       "  </tbody>\n",
       "</table>\n",
       "</div>"
      ],
      "text/plain": [
       "    Unnamed: 0             brand    city  \\\n",
       "23          23  Samsung::سامسونگ   Karaj   \n",
       "28          28        Apple::اپل     Qom   \n",
       "32          32        Apple::اپل  Shiraz   \n",
       "36          37        Sony::سونی     Qom   \n",
       "44          46     HTC::اچ‌تی‌سی  Tehran   \n",
       "\n",
       "                                    title  \\\n",
       "23                                A3 2015   \n",
       "28         اپل 5s ٣٢ گیگ بسیار تمیز در حد   \n",
       "32            اقساط٢٤ماهه بدون پیش پرداخت   \n",
       "36       سونی مدل acro s گوشی  هواوی y300   \n",
       "44  ّگوشی موبایل htc desire610 جهت معاوضه   \n",
       "\n",
       "                                                 desc  image_count  \\\n",
       "23  گوشی در حده نو کلا 2 هفتس خریدمش.با تشکر از سا...            1   \n",
       "28  گوشی بسیار تمیز در حد قیمت مقطوع میباشد لطفا ت...            2   \n",
       "32                       اقساط ٢٤ماهه بدون پیش پرداخت            0   \n",
       "36  گوشی سونی مدل acro s دوربین 12 فیلمبرداری HD ,...            2   \n",
       "44  معاوضه با ایفون 4\\nگوشیم سالم سالم 4g\\nبدون هی...            0   \n",
       "\n",
       "       created_at          price  \n",
       "23   Tuesday 12PM  649944.393349  \n",
       "28  Saturday 04AM  875872.336302  \n",
       "32    Sunday 03PM  635723.735156  \n",
       "36  Thursday 06AM   56553.275691  \n",
       "44    Monday 08PM  412181.516661  "
      ]
     },
     "execution_count": 53,
     "metadata": {},
     "output_type": "execute_result"
    }
   ],
   "source": [
    "unseen_data.head(5)"
   ]
  },
  {
   "cell_type": "code",
   "execution_count": 56,
   "metadata": {},
   "outputs": [],
   "source": [
    "data = pd.read_csv('mobile_phone_dataset.csv')\n",
    "data.drop(data.columns[[0]], axis=1, inplace=True)\n",
    "unseen_data = data[data['price'] == -1]\n",
    "unseen_data = unseen_data.copy()\n",
    "unseen_data['price'] = predictions\n",
    "unseen_data['price'] = unseen_data['price'].apply(lambda i: int(i))\n",
    "unseen_data.to_csv('out.csv')"
   ]
  },
  {
   "cell_type": "markdown",
   "metadata": {},
   "source": [
    "ایده‌هایی برای بهبود:\n",
    "\n",
    "یکی از ایده‌ها این است که داده‌های مفیدتری را از متون استخراج کنیم. مثلاً به‌طور خاص تلاش بیشتری برای یافتن مدل دستگاه از روی متون بکنیم و یا این‌که صفات زبان فارسی و کلماتی که بخش‌های مختلف موبایل را توصیف می‌کنند از این متون استخراج کرده و به‌عنوان فیچر در نظر بگیریم.\n",
    "\n",
    "از طرف دیگر می‌توانیم در مدل‌هایی که استفاده می‌شوند نیز تنوع بدهیم و مثلاً از شبکه‌های عصبی برای این کار استفاده کنیم که البته زمان‌بر است و در مدت زمان محدود این پروژه دسترسی به آن سخت بود. البته لزوما استفاده از مدل‌های دیگر نمی‌تواند باعث بهبود دقت شود و فاکتورهای متنوعی مثل فیچرهای انتخاب نیز در این موارد سهیم هستند."
   ]
  }
 ],
 "metadata": {
  "kernelspec": {
   "display_name": "Python 3",
   "language": "python",
   "name": "python3"
  },
  "language_info": {
   "codemirror_mode": {
    "name": "ipython",
    "version": 3
   },
   "file_extension": ".py",
   "mimetype": "text/x-python",
   "name": "python",
   "nbconvert_exporter": "python",
   "pygments_lexer": "ipython3",
   "version": "3.7.7"
  }
 },
 "nbformat": 4,
 "nbformat_minor": 2
}
