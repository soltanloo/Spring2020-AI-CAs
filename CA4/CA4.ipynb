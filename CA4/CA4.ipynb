{
 "cells": [
  {
   "cell_type": "code",
   "execution_count": 91,
   "metadata": {},
   "outputs": [
    {
     "data": {
      "text/html": [
       "<style>\n",
       ".text_cell {\n",
       "    font-family: \"Vazir\", \"Segoe UI\";\n",
       "}\n",
       ".rendered_html p {\n",
       "    text-align: right;\n",
       "}\n",
       ".text_cell {\n",
       "    direction: rtl;\n",
       "}\n",
       "div.input {\n",
       "    flex-direction: row-reverse;\n",
       "}\n",
       "</style>\n"
      ],
      "text/plain": [
       "<IPython.core.display.HTML object>"
      ]
     },
     "metadata": {},
     "output_type": "display_data"
    }
   ],
   "source": [
    "%%html\n",
    "<style>\n",
    ".text_cell {\n",
    "    font-family: \"Vazir\", \"Segoe UI\";\n",
    "}\n",
    ".rendered_html p {\n",
    "    text-align: right;\n",
    "}\n",
    ".text_cell {\n",
    "    direction: rtl;\n",
    "}\n",
    "div.input {\n",
    "    flex-direction: row-reverse;\n",
    "}\n",
    "</style>"
   ]
  },
  {
   "cell_type": "markdown",
   "metadata": {
    "collapsed": true,
    "pycharm": {
     "name": "#%% md\n"
    }
   },
   "source": [
    "# هوش مصنوعی - پروژه چهارم\n",
    "## حسین سلطانلو - ۸۱۰۱۹۵۴۰۷"
   ]
  },
  {
   "cell_type": "markdown",
   "metadata": {},
   "source": [
    "### فاز صفر: \n",
    "در اولین قدم نیاز داریم تا به پیش‌پردازش داده‌ها بپردازیم. برای این کار نیاز داریم تا تاریخ را به یک داده‌ی قابل پردازش تبدیل کنیم. از این رو اطلاعاتی که به نظر می‌توانند مفید باشند را از روی تاریخ خام به‌دست می‌آوریم و در واقع یک‌سری feature جدید از آن استخراج می‌کنیم. این اطلاعات شامل روز هفته، روز ماه، روز سال و ماه است. مثلاً اگر به همان تاریخ خام بسنده کنیم، از آن‌جا که تاریخ‌ها بسیار پخش هستند، کمک خاصی به ما نخواهند کرد و مدل ما بیش‌تر overfit خواهد شد."
   ]
  },
  {
   "cell_type": "code",
   "execution_count": 53,
   "metadata": {
    "pycharm": {
     "name": "#%%\n"
    }
   },
   "outputs": [],
   "source": [
    "import pandas as pd\n",
    "import numpy as np\n",
    "\n",
    "data = pd.read_csv('data.csv')\n",
    "data.drop(data.columns[[0]], axis=1, inplace=True)\n",
    "\n",
    "data['Date']= pd.to_datetime(data['Date'])\n",
    "data['Month'] = data['Date'].dt.month\n",
    "data['DayOfWeek'] = data['Date'].dt.dayofweek\n",
    "data['DayOfYear'] = data['Date'].dt.dayofyear\n",
    "data['DayOfMonth'] = data['Date'].dt.day\n",
    "data.head()\n",
    "\n",
    "unencoded_data = data.copy(deep=True)"
   ]
  },
  {
   "cell_type": "markdown",
   "metadata": {},
   "source": [
    "در این قسمت از یک scaler بهره می‌گیریم تا در برخی مدل‌هایی که در ادامه به آن‌ها اشاره می‌شود از آن استفاده کنیم و داده‌ها را scale کنیم. علت انجام این کار این است که ارزش عددی را از داده‌ها سلب کنیم و در مدلی مانند K Nearest Neighbors که بر مبنای فاصله‌های عددی کار می‌کند، تمامی featureها در یک مقیاس باشند تا از وزن‌دهی ناخواسته به آن‌ها براثر عدم تطابق مقیاس‌ها جلوگیری شود و هر feature مشارکتی برابر با بقیه در محاسبه‌ی فواصل داشته باشد."
   ]
  },
  {
   "cell_type": "code",
   "execution_count": 54,
   "metadata": {
    "pycharm": {
     "name": "#%%\n"
    }
   },
   "outputs": [],
   "source": [
    "from sklearn.preprocessing import StandardScaler\n",
    "\n",
    "scaler = StandardScaler()"
   ]
  },
  {
   "cell_type": "markdown",
   "metadata": {},
   "source": [
    "این مرحله مختص به متناسب‌سازی داده‌های categorical است. بسیاری از مدل‌های یادگیری ماشین فقط با داده‌های عددی سر و کار دارند و باید به نحوی این‌گونه داده‌های categorical را به داده‌های عددی تبدیل کنیم. برای این کار روش‌های متنوعی وجود دارد که در این‌جا از دو روش Label Encoding و One Hot Encoding استفاده می‌کنیم. در روش Lable Encoding به هر نوع از یک دسته، یک عدد اختصاص می‌یابد. ایراد این کار این است که با این کار به آن‌ها ارزش عددی و ترتیب می‌دهیم که مطلوب نیست و ممکن است باعث انحراف یادگیری مدل شود. برای حل این مشکل از روش One Hot Encoding استفاده می‌کنیم. One Hot Encoding به هر دسته یک ستون اختصاص می‌دهد و هر سطری که جزو آن دسته باشد را با 1 نمایش می‌دهد. ایراد استفاده از این روش این است که منجر به افزایش بسیار زیاد تعداد featureها و هم‌چنین بزرگ‌شدن جدول داده‌ها می‌شود.\\\n",
    "در مدل‌های درخت تصمیم فقط از داده‌هایی که Label Encode شده‌اند استفاده می‌کنیم؛ چرا که One Hot Encoding باعث عدم توازن در درخت خواهد شد."
   ]
  },
  {
   "cell_type": "code",
   "execution_count": 55,
   "metadata": {
    "pycharm": {
     "name": "#%%\n"
    }
   },
   "outputs": [],
   "source": [
    "from sklearn.preprocessing import OneHotEncoder\n",
    "from sklearn.preprocessing import LabelEncoder\n",
    "\n",
    "labelencoder = LabelEncoder()\n",
    "data['Country Type'] = labelencoder.fit_transform(data['Country'])\n",
    "unencoded_data['Country Type'] = labelencoder.fit_transform(unencoded_data['Country'])\n",
    "data['Is Back'] = labelencoder.fit_transform(data['Is Back'])\n",
    "unencoded_data['Is Back'] = labelencoder.fit_transform(data['Is Back'])\n",
    "onehotencoder = OneHotEncoder(handle_unknown='ignore')\n",
    "encoded_data = pd.DataFrame(onehotencoder.fit_transform(data[['Country Type']]).toarray())\n",
    "data = data.join(encoded_data)\n",
    "\n",
    "data.drop(['Country', 'Date'], axis=1, inplace=True)\n",
    "unencoded_data.drop(['Country', 'Date'], axis=1, inplace=True)\n"
   ]
  },
  {
   "cell_type": "markdown",
   "metadata": {},
   "source": [
    "در این بخش Information Gain مربوط به featureها نسبت به Is Back محاسبه می‌شود. همان‌گونه که در نمودار دیده می‌شود، روز سال می‌تواند بیش‌تر از بقیه‌ی موارد در درخت تصمیم‌گیری کمک‌کننده باشد که می‌تواند منطقی باشد؛ چرا که در بازه‌های مختلف سال، خریدها به‌شکل مناسبتی و فصلی انجام می‌گیرد و تمایز زیادی بین این‌که فرد باز هم خرید بکند یا خیر ایجاد می‌کند. همین امر در مورد این‌که در چه ماهی از سال خرید صورت گرفته می‌تواند صحیح باشد."
   ]
  },
  {
   "cell_type": "code",
   "execution_count": 56,
   "metadata": {
    "pycharm": {
     "name": "#%%\n"
    }
   },
   "outputs": [
    {
     "data": {
      "image/png": "[encoded data removed]",
      "text/plain": [
       "<Figure size 432x288 with 1 Axes>"
      ]
     },
     "metadata": {
      "needs_background": "light"
     },
     "output_type": "display_data"
    },
    {
     "data": {
      "image/png": "[encoded data removed]",
      "text/plain": [
       "<Figure size 432x288 with 1 Axes>"
      ]
     },
     "metadata": {
      "needs_background": "light"
     },
     "output_type": "display_data"
    }
   ],
   "source": [
    "from sklearn.feature_selection import mutual_info_classif\n",
    "import matplotlib.pyplot as plt\n",
    "\n",
    "ig = mutual_info_classif(data.loc[:, data.columns != 'Is Back'], data['Is Back'])\n",
    "\n",
    "cols = tuple(data.loc[:, data.columns != 'Is Back'].columns.values[:8])\n",
    "y_pos = np.arange(len(cols))\n",
    "plt.barh(y_pos, ig[:8], align='center')\n",
    "plt.yticks(y_pos, cols)\n",
    "plt.ylabel('Column')\n",
    "plt.title('Information Gain')\n",
    "plt.show()\n",
    "\n",
    "cols = tuple(data.loc[:, data.columns != 'Is Back'].columns.values[9:])\n",
    "y_pos = np.arange(len(cols))\n",
    "plt.barh(y_pos, ig[9:], align='center')\n",
    "plt.yticks(y_pos, cols)\n",
    "plt.ylabel('Country Label')\n",
    "plt.title('Information Gain (Countries)')\n",
    "plt.show()"
   ]
  },
  {
   "cell_type": "markdown",
   "metadata": {},
   "source": [
    "### فاز اول:\n",
    "در این قسمت داده‌ها را به دو بخش train و test با نسبت ۸۰/۲۰ تقسیم می‌کنیم."
   ]
  },
  {
   "cell_type": "code",
   "execution_count": 57,
   "metadata": {
    "pycharm": {
     "name": "#%%\n"
    }
   },
   "outputs": [],
   "source": [
    "from sklearn.model_selection import train_test_split\n",
    "\n",
    "x = data.loc[:, data.columns != 'Is Back']\n",
    "x = x.drop(x.columns[[0, 8]], axis=1)\n",
    "unencoded_data_x = unencoded_data.loc[:, unencoded_data.columns != 'Is Back']\n",
    "unencoded_data_x = unencoded_data_x.drop(unencoded_data_x.columns[[0]], axis=1)\n",
    "unencoded_data_x['Total Quantity'] = unencoded_data_x['Total Quantity'] // 10\n",
    "\n",
    "y = data['Is Back']\n",
    "unencoded_data_y = unencoded_data['Is Back']\n",
    "x_train, x_test, y_train, y_test = train_test_split(x, y, test_size = 0.2, random_state = 5)\n",
    "unenc_x_train, unenc_x_test, unenc_y_train, unenc_y_test = train_test_split(unencoded_data_x, unencoded_data_y, test_size = 0.2, random_state = 5)"
   ]
  },
  {
   "cell_type": "code",
   "execution_count": 58,
   "metadata": {},
   "outputs": [],
   "source": [
    "def report(data_type, acc, pre, rec):\n",
    "    print(f'---{data_type.upper()} DATA REPORT:---\\nACCURACY: %{int(acc * 100)}\\nPRECISION: %{int(pre * 100)}\\nRECALL: %{int(rec * 100)}\\n')"
   ]
  },
  {
   "cell_type": "markdown",
   "metadata": {},
   "source": [
    "در ادامه به محاسبه‌ی دقت مدل KNN برای تعداد همسایه‌های بین ۱ تا ۳۰ می‌پردازیم تا ببینیم بهترین مقدار برای آن کدام است. برای این مدل داده‌های scaleشده و هم‌چنین encodeشده استفاده شده است. scaleشدن از آن‌جا مهم است که در این مدل به فاصله‌ها وابسته‌ایم و هم‌چنین برای محاسبه‌ی فواصل نیاز به داده‌های عددی داریم. پس نیاز است که داده‌های طبقه‌ای نیز به داده‌های عددی تبدیل شوند."
   ]
  },
  {
   "cell_type": "code",
   "execution_count": 59,
   "metadata": {
    "pycharm": {
     "is_executing": true,
     "name": "#%%\n"
    }
   },
   "outputs": [],
   "source": [
    "from sklearn.neighbors import KNeighborsClassifier\n",
    "from sklearn import metrics\n",
    "\n",
    "k_range = range(1,31)\n",
    "knn_train_acc = {}\n",
    "knn_train_acc_list = []\n",
    "knn_train_pre = {}\n",
    "knn_train_pre_list = []\n",
    "knn_train_rec = {}\n",
    "knn_train_rec_list = []\n",
    "knn_test_acc = {}\n",
    "knn_test_acc_list = []\n",
    "knn_test_pre = {}\n",
    "knn_test_pre_list = []\n",
    "knn_test_rec = {}\n",
    "knn_test_rec_list = []\n",
    "for k in k_range:\n",
    "    knn = KNeighborsClassifier(n_neighbors=k)\n",
    "    knn.fit(scaler.fit_transform(x_train), y_train)\n",
    "    knn_y_train_pred = knn.predict(scaler.fit_transform(x_train))\n",
    "    knn_y_test_pred = knn.predict(scaler.fit_transform(x_test))\n",
    "\n",
    "    knn_train_acc[k] = metrics.accuracy_score(y_train, knn_y_train_pred)\n",
    "    knn_test_acc[k] = metrics.accuracy_score(y_test, knn_y_test_pred)\n",
    "    knn_train_acc_list.append(knn_train_acc[k])\n",
    "    knn_test_acc_list.append(knn_test_acc[k])\n",
    "\n",
    "    knn_train_pre[k] = metrics.precision_score(y_train, knn_y_train_pred, average='weighted')\n",
    "    knn_test_pre[k] = metrics.precision_score(y_test, knn_y_test_pred, average='weighted')\n",
    "    knn_train_pre_list.append(knn_train_pre[k])\n",
    "    knn_test_pre_list.append(knn_test_pre[k])\n",
    "\n",
    "    knn_train_rec[k] = metrics.recall_score(y_train, knn_y_train_pred, average='weighted')\n",
    "    knn_test_rec[k] = metrics.recall_score(y_test, knn_y_test_pred, average='weighted')\n",
    "    knn_train_rec_list.append(knn_train_rec[k])\n",
    "    knn_test_rec_list.append(knn_test_rec[k])"
   ]
  },
  {
   "cell_type": "code",
   "execution_count": 60,
   "metadata": {
    "pycharm": {
     "is_executing": true,
     "name": "#%%\n"
    }
   },
   "outputs": [
    {
     "data": {
      "image/png": "[encoded data removed]",
      "text/plain": [
       "<Figure size 432x288 with 1 Axes>"
      ]
     },
     "metadata": {
      "needs_background": "light"
     },
     "output_type": "display_data"
    }
   ],
   "source": [
    "import matplotlib.pyplot as plt\n",
    "\n",
    "plt.plot(k_range, knn_train_acc_list, label='Train Data')\n",
    "plt.plot(k_range, knn_test_acc_list, label='Test Data')\n",
    "plt.xlabel('Number of Neighbors')\n",
    "plt.ylabel('Accuracy')\n",
    "plt.legend()\n",
    "plt.show()"
   ]
  },
  {
   "cell_type": "markdown",
   "metadata": {},
   "source": [
    "مشاهده می‌شود که برای مقدار همسایه‌های بین ۱ تا ۵، دقت مدل برای داده‌های train بسیار بالاتر از داده‌های test است و در واقع overfit رخ داده است. دلیل آن نیز این است که اگر همسایه‌های کمی در نظر گرفته شود، در واقع داریم فقط بر اساس چیزهایی که در داده‌ی یادگیری دیده‌ایم قضاوت می‌کنیم. پس مقداری که برمی‌گزینیم طبق نمودار در بازه‌ی بیش از ۱۵ است که در این‌جا مقدار ۱۹ را انتخاب کرده‌ایم. البته باید دقت داشت که اگر این مقدار بسیار بالا برود نیز دچار underfit خواهیم شد، چرا که محدوده‌ی همسایه‌ی بسیار بزرگی در نظر گرفته می‌شود.\\\n",
    "درصد معیارهای دقت نیز در ادامه آمده است."
   ]
  },
  {
   "cell_type": "code",
   "execution_count": 61,
   "metadata": {},
   "outputs": [
    {
     "name": "stdout",
     "output_type": "stream",
     "text": [
      "---KNN TRAIN DATA REPORT:---\n",
      "ACCURACY: %72\n",
      "PRECISION: %70\n",
      "RECALL: %72\n",
      "\n",
      "---KNN TEST DATA REPORT:---\n",
      "ACCURACY: %74\n",
      "PRECISION: %72\n",
      "RECALL: %74\n",
      "\n"
     ]
    }
   ],
   "source": [
    "best_k = 19\n",
    "report(\"knn train\",knn_train_acc[best_k], knn_train_pre[best_k], knn_train_rec[best_k])\n",
    "report(\"knn test\",knn_test_acc[best_k], knn_test_pre[best_k], knn_test_rec[best_k])"
   ]
  },
  {
   "cell_type": "markdown",
   "metadata": {},
   "source": [
    "در این قسمت دقت مدل درخت تصمیم برای حداکثر عمق ۱ تا ۳۰ محاسبه شده است. گفتنی است که برای این مدل به جز استخراج داده‌های جدید از تاریخ، عمل دیگری برای پیش‌پردازش صورت نگرفته است. "
   ]
  },
  {
   "cell_type": "code",
   "execution_count": 62,
   "metadata": {
    "pycharm": {
     "is_executing": true,
     "name": "#%%\n"
    }
   },
   "outputs": [],
   "source": [
    "from sklearn.tree import DecisionTreeClassifier\n",
    "\n",
    "d_range = range(1,31)\n",
    "dt_train_acc = {}\n",
    "dt_train_acc_list = []\n",
    "dt_train_pre = {}\n",
    "dt_train_pre_list = []\n",
    "dt_train_rec = {}\n",
    "dt_train_rec_list = []\n",
    "dt_test_acc = {}\n",
    "dt_test_acc_list = []\n",
    "dt_test_pre = {}\n",
    "dt_test_pre_list = []\n",
    "dt_test_rec = {}\n",
    "dt_test_rec_list = []\n",
    "for d in d_range:\n",
    "    dtc = DecisionTreeClassifier(max_depth=d)\n",
    "    dtc.fit(unenc_x_train, unenc_y_train)\n",
    "    dt_y_train_pred = dtc.predict(unenc_x_train)\n",
    "    dt_y_test_pred = dtc.predict(unenc_x_test)\n",
    "\n",
    "    dt_train_acc[d] = metrics.accuracy_score(unenc_y_train, dt_y_train_pred)\n",
    "    dt_test_acc[d] = metrics.accuracy_score(unenc_y_test, dt_y_test_pred)\n",
    "    dt_train_acc_list.append(dt_train_acc[d])\n",
    "    dt_test_acc_list.append(dt_test_acc[d])\n",
    "\n",
    "    dt_train_pre[d] = metrics.precision_score(unenc_y_train, dt_y_train_pred, average='weighted', zero_division=1)\n",
    "    dt_test_pre[d] = metrics.precision_score(unenc_y_test, dt_y_test_pred, average='weighted', zero_division=1)\n",
    "    dt_train_pre_list.append(dt_train_pre[d])\n",
    "    dt_test_pre_list.append(dt_test_pre[d])\n",
    "\n",
    "    dt_train_rec[d] = metrics.recall_score(unenc_y_train, dt_y_train_pred, average='weighted', zero_division=1)\n",
    "    dt_test_rec[d] = metrics.recall_score(unenc_y_test, dt_y_test_pred, average='weighted', zero_division=1)\n",
    "    dt_train_rec_list.append(dt_train_rec[d])\n",
    "    dt_test_rec_list.append(dt_test_rec[d])"
   ]
  },
  {
   "cell_type": "code",
   "execution_count": 63,
   "metadata": {
    "pycharm": {
     "is_executing": true,
     "name": "#%%\n"
    }
   },
   "outputs": [
    {
     "data": {
      "image/png": "[encoded data removed]",
      "text/plain": [
       "<Figure size 432x288 with 1 Axes>"
      ]
     },
     "metadata": {
      "needs_background": "light"
     },
     "output_type": "display_data"
    }
   ],
   "source": [
    "plt.plot(d_range, dt_train_acc_list, label='Train Data')\n",
    "plt.plot(d_range, dt_test_acc_list, label='Test Data')\n",
    "plt.xlabel('Maximum Depth')\n",
    "plt.ylabel('Accuracy')\n",
    "plt.legend()\n",
    "plt.show()"
   ]
  },
  {
   "cell_type": "markdown",
   "metadata": {},
   "source": [
    "مشاهده می‌شود که با افزایش حداکثر ارتفاع درخت، تفاوت بین دقت داده‌ی یادگیری و آزمون زیادتر می‌شود. دلیل این امر نیز آن است که ارتفاع درخت هرچه بالاتر برود، مدل از generalization خارج می‌شود و در واقع تصمیم‌گیری‌هایی که روی گره‌های درخت انجام شده، وابستگی بیش‌تری به داده پیدا کرده است و در نتیجه برای داده‌ی آزمون، دقت بسیار پایین‌تری خواهیم داشت.\\\n",
    "درصد معیارهای دقت نیز در ادامه برای حداکثر ارتفاع ۵ محاسبه شده است."
   ]
  },
  {
   "cell_type": "code",
   "execution_count": 64,
   "metadata": {},
   "outputs": [
    {
     "name": "stdout",
     "output_type": "stream",
     "text": [
      "---DECISION TREE TRAIN DATA REPORT:---\n",
      "ACCURACY: %74\n",
      "PRECISION: %73\n",
      "RECALL: %74\n",
      "\n",
      "---DECISION TREE TEST DATA REPORT:---\n",
      "ACCURACY: %74\n",
      "PRECISION: %72\n",
      "RECALL: %74\n",
      "\n"
     ]
    }
   ],
   "source": [
    "best_d = 5\n",
    "report(\"decision tree train\",dt_train_acc[best_d], dt_train_pre[best_d], dt_train_rec[best_d])\n",
    "report(\"decision tree test\",dt_test_acc[best_d], dt_test_pre[best_d], dt_test_rec[best_d])"
   ]
  },
  {
   "cell_type": "markdown",
   "metadata": {},
   "source": [
    "در این بخش معیارهای دقت را برای مدل Logistic Regression مشاهده می‌کنیم. داده‌هایی که به این مدل برای یادگیری داده می‌شوند همانند داده‌هایی هستند که به مدل KNN دادیم."
   ]
  },
  {
   "cell_type": "code",
   "execution_count": 65,
   "metadata": {
    "pycharm": {
     "is_executing": true,
     "name": "#%%\n"
    }
   },
   "outputs": [
    {
     "name": "stdout",
     "output_type": "stream",
     "text": [
      "---LOGISTIC REGRESSION TRAIN DATA REPORT:---\n",
      "ACCURACY: %68\n",
      "PRECISION: %68\n",
      "RECALL: %68\n",
      "\n",
      "---LOGISTIC REGRESSION TEST DATA REPORT:---\n",
      "ACCURACY: %71\n",
      "PRECISION: %67\n",
      "RECALL: %71\n",
      "\n"
     ]
    }
   ],
   "source": [
    "from sklearn.linear_model import LogisticRegression\n",
    "\n",
    "lr = LogisticRegression(max_iter=1000)\n",
    "lr.fit(x_train, y_train)\n",
    "lr_y_train_pred = lr.predict(x_train)\n",
    "lr_y_test_pred = lr.predict(x_test)\n",
    "lr_train_acc = metrics.accuracy_score(y_train, lr_y_train_pred)\n",
    "lr_train_rec = metrics.recall_score(y_train, lr_y_train_pred, average='weighted')\n",
    "lr_train_pre = metrics.precision_score(y_train, lr_y_train_pred, average='weighted')\n",
    "lr_test_acc = metrics.accuracy_score(y_test, lr_y_test_pred)\n",
    "lr_test_rec = metrics.recall_score(y_test, lr_y_test_pred, average='weighted')\n",
    "lr_test_pre = metrics.precision_score(y_test, lr_y_test_pred, average='weighted')\n",
    "\n",
    "report(\"logistic regression train\",lr_train_acc, lr_train_pre, lr_train_rec)\n",
    "report(\"logistic regression test\",lr_test_acc, lr_test_pre, lr_test_rec)"
   ]
  },
  {
   "cell_type": "markdown",
   "metadata": {},
   "source": [
    "### فاز دوم:\n",
    "با بررسی معیارهای دقت در مدل Bagging مبتنی بر Decision Tree مشاهده می‌شود که نسبت به حالت عادی با افزایش دقت مواجهیم."
   ]
  },
  {
   "cell_type": "code",
   "execution_count": 66,
   "metadata": {
    "pycharm": {
     "is_executing": true,
     "name": "#%%\n"
    }
   },
   "outputs": [
    {
     "name": "stdout",
     "output_type": "stream",
     "text": [
      "---BAGGING DECISION TREE TRAIN DATA REPORT:---\n",
      "ACCURACY: %73\n",
      "PRECISION: %73\n",
      "RECALL: %73\n",
      "\n",
      "---BAGGING DECISION TREE TEST DATA REPORT:---\n",
      "ACCURACY: %75\n",
      "PRECISION: %73\n",
      "RECALL: %75\n",
      "\n"
     ]
    }
   ],
   "source": [
    "from sklearn.ensemble import BaggingClassifier\n",
    "\n",
    "bc_dt = BaggingClassifier(base_estimator=DecisionTreeClassifier(max_depth=best_d), max_features=0.5, max_samples=0.5)\n",
    "bc_dt.fit(unenc_x_train, unenc_y_train)\n",
    "bagging_dt_y_test_pred = bc_dt.predict(unenc_x_test)\n",
    "bagging_dt_y_train_pred = bc_dt.predict(unenc_x_train)\n",
    "bagging_dt_train_acc = metrics.accuracy_score(unenc_y_train, bagging_dt_y_train_pred)\n",
    "bagging_dt_test_acc = metrics.accuracy_score(unenc_y_test, bagging_dt_y_test_pred)\n",
    "bagging_dt_train_pre = metrics.precision_score(unenc_y_train, bagging_dt_y_train_pred, average='weighted')\n",
    "bagging_dt_test_pre = metrics.precision_score(unenc_y_test, bagging_dt_y_test_pred, average='weighted')\n",
    "bagging_dt_train_rec = metrics.recall_score(unenc_y_train, bagging_dt_y_train_pred, average='weighted')\n",
    "bagging_dt_test_rec = metrics.recall_score(unenc_y_test, bagging_dt_y_test_pred, average='weighted')\n",
    "\n",
    "report(\"bagging decision tree train\",bagging_dt_train_acc, bagging_dt_train_pre, bagging_dt_train_rec)\n",
    "report(\"bagging decision tree test\",bagging_dt_test_acc, bagging_dt_test_pre, bagging_dt_test_rec)"
   ]
  },
  {
   "cell_type": "markdown",
   "metadata": {},
   "source": [
    "در پیاده‌سازی Bagging با KNN اما پیشرفتی در معیارهای دقت مشاهده نمی‌شود که دلیل آن این است که مدل KNN یک مدل stable است. یعنی چون تعداد همسایه‌های بالایی برای مدل پایه‌ی KNN انتخاب شده است، در نتیجه تفاوت چندانی در این‌که زیرمجموعه‌هایی از داده‌های یادگیری برای یاددهی هرکدام از KNNها انتخاب شوند مشاهده نمی‌شود."
   ]
  },
  {
   "cell_type": "code",
   "execution_count": 67,
   "metadata": {
    "pycharm": {
     "is_executing": true,
     "name": "#%%\n"
    }
   },
   "outputs": [
    {
     "name": "stdout",
     "output_type": "stream",
     "text": [
      "---BAGGING KNN TRAIN DATA REPORT:---\n",
      "ACCURACY: %70\n",
      "PRECISION: %71\n",
      "RECALL: %70\n",
      "\n",
      "---BAGGING KNN TEST DATA REPORT:---\n",
      "ACCURACY: %72\n",
      "PRECISION: %70\n",
      "RECALL: %72\n",
      "\n"
     ]
    }
   ],
   "source": [
    "bc_knn = BaggingClassifier(base_estimator=KNeighborsClassifier(n_neighbors=best_k), max_features=0.5, max_samples=0.5)\n",
    "bc_knn.fit(scaler.transform(x_train), y_train)\n",
    "bagging_knn_y_test_pred = bc_knn.predict(scaler.transform(x_test))\n",
    "bagging_knn_y_train_pred = bc_knn.predict(scaler.transform(x_train))\n",
    "bagging_knn_train_acc = metrics.accuracy_score(y_train, bagging_knn_y_train_pred)\n",
    "bagging_knn_test_acc = metrics.accuracy_score(y_test, bagging_knn_y_test_pred)\n",
    "bagging_knn_train_pre = metrics.precision_score(y_train, bagging_knn_y_train_pred, average='weighted')\n",
    "bagging_knn_test_pre = metrics.precision_score(y_test, bagging_knn_y_test_pred, average='weighted')\n",
    "bagging_knn_train_rec = metrics.recall_score(y_train, bagging_knn_y_train_pred, average='weighted')\n",
    "bagging_knn_test_rec = metrics.recall_score(y_test, bagging_knn_y_test_pred, average='weighted')\n",
    "\n",
    "report(\"bagging knn train\",bagging_knn_train_acc, bagging_knn_train_pre, bagging_knn_train_rec)\n",
    "report(\"bagging knn test\",bagging_knn_test_acc, bagging_knn_test_pre, bagging_knn_test_rec)"
   ]
  },
  {
   "cell_type": "markdown",
   "metadata": {},
   "source": [
    "در ادامه اثر دو هایپرپارامتر min_samples_leaf و max_depth را بر روی Random Forest بررسی می‌کنیم."
   ]
  },
  {
   "cell_type": "code",
   "execution_count": 68,
   "metadata": {
    "pycharm": {
     "is_executing": true,
     "name": "#%%\n"
    }
   },
   "outputs": [],
   "source": [
    "from sklearn.ensemble import RandomForestClassifier\n",
    "\n",
    "min_samples_leaf_range = range(1,31)\n",
    "rf_train_acc = {}\n",
    "rf_train_acc_list = []\n",
    "rf_train_pre = {}\n",
    "rf_train_pre_list = []\n",
    "rf_train_rec = {}\n",
    "rf_train_rec_list = []\n",
    "rf_test_acc = {}\n",
    "rf_test_acc_list = []\n",
    "rf_test_pre = {}\n",
    "rf_test_pre_list = []\n",
    "rf_test_rec = {}\n",
    "rf_test_rec_list = []\n",
    "\n",
    "for n in min_samples_leaf_range:\n",
    "    rf = RandomForestClassifier(min_samples_leaf=n)\n",
    "    rf.fit(unenc_x_train, unenc_y_train)\n",
    "    rf_y_train_pred = rf.predict(unenc_x_train)\n",
    "    rf_y_test_pred = rf.predict(unenc_x_test)\n",
    "\n",
    "    rf_train_acc[n] = metrics.accuracy_score(unenc_y_train, rf_y_train_pred)\n",
    "    rf_test_acc[n] = metrics.accuracy_score(unenc_y_test, rf_y_test_pred)\n",
    "    rf_train_acc_list.append(rf_train_acc[n])\n",
    "    rf_test_acc_list.append(rf_test_acc[n])\n",
    "\n",
    "    rf_train_pre[n] = metrics.precision_score(unenc_y_train, rf_y_train_pred, average='weighted')\n",
    "    rf_test_pre[n] = metrics.precision_score(unenc_y_test, rf_y_test_pred, average='weighted')\n",
    "    rf_train_pre_list.append(rf_train_pre[n])\n",
    "    rf_test_pre_list.append(rf_test_pre[n])\n",
    "\n",
    "    rf_train_rec[n] = metrics.recall_score(unenc_y_train, rf_y_train_pred, average='weighted')\n",
    "    rf_test_rec[n] = metrics.recall_score(unenc_y_test, rf_y_test_pred, average='weighted')\n",
    "    rf_train_rec_list.append(rf_train_rec[n])\n",
    "    rf_test_rec_list.append(rf_test_rec[n])"
   ]
  },
  {
   "cell_type": "code",
   "execution_count": 70,
   "metadata": {
    "pycharm": {
     "is_executing": true,
     "name": "#%%\n"
    }
   },
   "outputs": [
    {
     "data": {
      "image/png": "[encoded data removed]",
      "text/plain": [
       "<Figure size 432x288 with 1 Axes>"
      ]
     },
     "metadata": {
      "needs_background": "light"
     },
     "output_type": "display_data"
    }
   ],
   "source": [
    "plt.plot(n_estimators_range, rf_train_acc_list, label='Train Data')\n",
    "plt.plot(n_estimators_range, rf_test_acc_list, label='Test Data')\n",
    "plt.xlabel('Minimum Leaf Samples')\n",
    "plt.ylabel('Accuracy')\n",
    "plt.legend()\n",
    "plt.show()"
   ]
  },
  {
   "cell_type": "markdown",
   "metadata": {},
   "source": [
    "مشاهده می‌شود که هرچه میزان حداقل تعداد داده‌ها در برگ‌های درخت تصمیم بیشتر باشد، کمتر شاهد overfit خواهیم بود. دلیل آن هم این است که اگر این میزان حداقلی کم باشد، درخت با ایجاد شاخه‌هایی که داده‌های کمی در آن‌ها وجود دارد، حالت‌های خاصی را پوشش می‌دهد که تنها در داده‌ی یادگیری دیده شده و همین باعث overfit می‌شود. در نتیجه با افزایش این مقدار، می‌توانیم از overfitting جلوگیری کنیم.\\\n",
    "در ادامه نیز معیارهای دقت مربوطه مشاهده می‌شود."
   ]
  },
  {
   "cell_type": "code",
   "execution_count": 71,
   "metadata": {},
   "outputs": [
    {
     "name": "stdout",
     "output_type": "stream",
     "text": [
      "---RANDOM FOREST TRAIN DATA REPORT:---\n",
      "ACCURACY: %74\n",
      "PRECISION: %74\n",
      "RECALL: %74\n",
      "\n",
      "---RANDOM FOREST TEST DATA REPORT:---\n",
      "ACCURACY: %74\n",
      "PRECISION: %73\n",
      "RECALL: %74\n",
      "\n"
     ]
    }
   ],
   "source": [
    "best_n = 20\n",
    "report(\"random forest train\",rf_train_acc[best_n], rf_train_pre[best_n], rf_train_rec[best_n])\n",
    "report(\"random forest test\",rf_test_acc[best_n], rf_test_pre[best_n], rf_test_rec[best_n])"
   ]
  },
  {
   "cell_type": "code",
   "execution_count": 72,
   "metadata": {
    "pycharm": {
     "is_executing": true,
     "name": "#%%\n"
    }
   },
   "outputs": [],
   "source": [
    "max_depth_range = range(1,31)\n",
    "rf_train_acc = {}\n",
    "rf_train_acc_list = []\n",
    "rf_train_pre = {}\n",
    "rf_train_pre_list = []\n",
    "rf_train_rec = {}\n",
    "rf_train_rec_list = []\n",
    "rf_test_acc = {}\n",
    "rf_test_acc_list = []\n",
    "rf_test_pre = {}\n",
    "rf_test_pre_list = []\n",
    "rf_test_rec = {}\n",
    "rf_test_rec_list = []\n",
    "\n",
    "for n in max_depth_range:\n",
    "    rf = RandomForestClassifier(max_depth=n)\n",
    "    rf.fit(unenc_x_train, unenc_y_train)\n",
    "    rf_y_train_pred = rf.predict(unenc_x_train)\n",
    "    rf_y_test_pred = rf.predict(unenc_x_test)\n",
    "\n",
    "    rf_train_acc[n] = metrics.accuracy_score(unenc_y_train, rf_y_train_pred)\n",
    "    rf_test_acc[n] = metrics.accuracy_score(unenc_y_test, rf_y_test_pred)\n",
    "    rf_train_acc_list.append(rf_train_acc[n])\n",
    "    rf_test_acc_list.append(rf_test_acc[n])\n",
    "\n",
    "    rf_train_pre[n] = metrics.precision_score(unenc_y_train, rf_y_train_pred, average='weighted', zero_division=1)\n",
    "    rf_test_pre[n] = metrics.precision_score(unenc_y_test, rf_y_test_pred, average='weighted', zero_division=1)\n",
    "    rf_train_pre_list.append(rf_train_pre[n])\n",
    "    rf_test_pre_list.append(rf_test_pre[n])\n",
    "\n",
    "    rf_train_rec[n] = metrics.recall_score(unenc_y_train, rf_y_train_pred, average='weighted', zero_division=1)\n",
    "    rf_test_rec[n] = metrics.recall_score(unenc_y_test, rf_y_test_pred, average='weighted', zero_division=1)\n",
    "    rf_train_rec_list.append(rf_train_rec[n])\n",
    "    rf_test_rec_list.append(rf_test_rec[n])"
   ]
  },
  {
   "cell_type": "code",
   "execution_count": 73,
   "metadata": {
    "pycharm": {
     "is_executing": true,
     "name": "#%%\n"
    }
   },
   "outputs": [
    {
     "data": {
      "image/png": "[encoded data removed]",
      "text/plain": [
       "<Figure size 432x288 with 1 Axes>"
      ]
     },
     "metadata": {
      "needs_background": "light"
     },
     "output_type": "display_data"
    }
   ],
   "source": [
    "plt.plot(max_depth_range, rf_train_acc_list, label='Train Data')\n",
    "plt.plot(max_depth_range, rf_test_acc_list, label='Test Data')\n",
    "plt.xlabel('Max Depth')\n",
    "plt.ylabel('Accuracy')\n",
    "plt.legend()\n",
    "plt.show()"
   ]
  },
  {
   "cell_type": "markdown",
   "metadata": {},
   "source": [
    "مشاهده می‌شود که مانند استفاده از یک درخت تصمیم با عمق بالا، اگر از Random Forest با حداکثر عمق زیاد نیز استفاده کنیم، شاهد overfitting خواهیم بود."
   ]
  },
  {
   "cell_type": "code",
   "execution_count": 74,
   "metadata": {},
   "outputs": [
    {
     "name": "stdout",
     "output_type": "stream",
     "text": [
      "---RANDOM FOREST TRAIN DATA REPORT:---\n",
      "ACCURACY: %76\n",
      "PRECISION: %75\n",
      "RECALL: %76\n",
      "\n",
      "---RANDOM FOREST TEST DATA REPORT:---\n",
      "ACCURACY: %75\n",
      "PRECISION: %74\n",
      "RECALL: %75\n",
      "\n"
     ]
    }
   ],
   "source": [
    "best_md = 7\n",
    "report(\"random forest train\",rf_train_acc[best_md], rf_train_pre[best_md], rf_train_rec[best_md])\n",
    "report(\"random forest test\",rf_test_acc[best_md], rf_test_pre[best_md], rf_test_rec[best_md])"
   ]
  },
  {
   "cell_type": "markdown",
   "metadata": {
    "pycharm": {
     "name": "#%% md\n"
    }
   },
   "source": [
    "در ادامه تاثیر Bagging بر روی Overfitting را بررسی می‌کنیم. برای این کار یک مدل KNN که Overfit شده است را با همان مدل در حالت Bagging مقایسه می‌کنیم.\\\n",
    "با مشاهده‌ی درصدهای مربوط به دقت در هر کدام از دو حالت درمی‌یابیم که بهبود چشم‌گیری رخ داده است و فاصله‌ی بین درصدهای مربوط به داده‌ی یادگیری و داده‌ی آزمون کاهش یافته است. دلیل این امر نیز این است که در Bagging از آن‌جا که هر کدام از مدل‌ها بخشی از داده را می‌بیند و بر اساس آن تصمیم‌گیری می‌کند، در نتیجه در مجموع همه‌ی داده‌های دیده شده‌اند اما هر مدل بخشی از داده را دیده است و همین امر می‌تواند جلوی Overfitting را بگیرد. "
   ]
  },
  {
   "cell_type": "code",
   "execution_count": 75,
   "metadata": {
    "pycharm": {
     "is_executing": true,
     "name": "#%%\n"
    }
   },
   "outputs": [
    {
     "name": "stdout",
     "output_type": "stream",
     "text": [
      "---OVERFIT KNN TRAIN DATA REPORT:---\n",
      "ACCURACY: %81\n",
      "PRECISION: %88\n",
      "RECALL: %81\n",
      "\n",
      "---OVERFIT KNN TEST DATA REPORT:---\n",
      "ACCURACY: %55\n",
      "PRECISION: %64\n",
      "RECALL: %55\n",
      "\n",
      "---BAGGING KNN TRAIN DATA REPORT:---\n",
      "ACCURACY: %84\n",
      "PRECISION: %84\n",
      "RECALL: %84\n",
      "\n",
      "---BAGGING KNN TEST DATA REPORT:---\n",
      "ACCURACY: %71\n",
      "PRECISION: %70\n",
      "RECALL: %71\n",
      "\n"
     ]
    }
   ],
   "source": [
    "bc_knn = BaggingClassifier(base_estimator=KNeighborsClassifier(n_neighbors=2), max_features=0.5, max_samples=0.5)\n",
    "bc_knn.fit(x_train, y_train)\n",
    "bagging_knn_y_test_pred = bc_knn.predict(x_test)\n",
    "bagging_knn_y_train_pred = bc_knn.predict(x_train)\n",
    "bagging_knn_train_acc = metrics.accuracy_score(y_train, bagging_knn_y_train_pred)\n",
    "bagging_knn_test_acc = metrics.accuracy_score(y_test, bagging_knn_y_test_pred)\n",
    "bagging_knn_train_pre = metrics.precision_score(y_train, bagging_knn_y_train_pred, average='weighted')\n",
    "bagging_knn_test_pre = metrics.precision_score(y_test, bagging_knn_y_test_pred, average='weighted')\n",
    "bagging_knn_train_rec = metrics.recall_score(y_train, bagging_knn_y_train_pred, average='weighted')\n",
    "bagging_knn_test_rec = metrics.recall_score(y_test, bagging_knn_y_test_pred, average='weighted')\n",
    "\n",
    "knn = KNeighborsClassifier(n_neighbors=2)\n",
    "knn.fit(x_train, y_train)\n",
    "knn_y_test_pred = knn.predict(x_test)\n",
    "knn_y_train_pred = knn.predict(x_train)\n",
    "knn_train_acc = metrics.accuracy_score(y_train, knn_y_train_pred)\n",
    "knn_test_acc = metrics.accuracy_score(y_test, knn_y_test_pred)\n",
    "knn_train_pre = metrics.precision_score(y_train, knn_y_train_pred, average='weighted')\n",
    "knn_test_pre = metrics.precision_score(y_test, knn_y_test_pred, average='weighted')\n",
    "knn_train_rec = metrics.recall_score(y_train, knn_y_train_pred, average='weighted')\n",
    "knn_test_rec = metrics.recall_score(y_test, knn_y_test_pred, average='weighted')\n",
    "\n",
    "report(\"overfit knn train\",knn_train_acc, knn_train_pre, knn_train_rec)\n",
    "report(\"overfit knn test\",knn_test_acc, knn_test_pre, knn_test_rec)\n",
    "report(\"bagging knn train\",bagging_knn_train_acc, bagging_knn_train_pre, bagging_knn_train_rec)\n",
    "report(\"bagging knn test\",bagging_knn_test_acc, bagging_knn_test_pre, bagging_knn_test_rec)"
   ]
  },
  {
   "cell_type": "markdown",
   "metadata": {},
   "source": [
    "عمل Bootstrapping به این اتلاق می‌شود که زیرمجموعه‌هایی از داده را با جای‌گذاری انتخاب کرده و به تعداد مختلفی از یک مدل برای یادگیری بدهیم. این کار باعث کاهش واریانس می‌شود، چون نهایتا با میانگین نظرات همه‌ی این مدل‌ها روی پاسخ تصمیم‌گیری می‌شود. اما این کار باعث افزایش بایاس می‌شود؛ چرا که حالا هر مدل تعداد داده‌های کم‌تری مشاهده می‌کند و این باعث می‌شود که هر مدل ساده‌نگرتر باشد."
   ]
  },
  {
   "cell_type": "markdown",
   "metadata": {},
   "source": [
    "نهایتاً با سه مدل فاز اول، مدل جمعی Hard Voting را پیاده‌سازی می‌کنیم که در انتها درصدهای مربوط به معیارهای دقت برای آن آمده است."
   ]
  },
  {
   "cell_type": "code",
   "execution_count": 76,
   "metadata": {
    "pycharm": {
     "is_executing": true,
     "name": "#%%\n"
    }
   },
   "outputs": [
    {
     "name": "stdout",
     "output_type": "stream",
     "text": [
      "---VOTING CLASSIFIER TRAIN DATA REPORT:---\n",
      "ACCURACY: %73\n",
      "PRECISION: %73\n",
      "RECALL: %73\n",
      "\n",
      "---VOTING CLASSIFIER TEST DATA REPORT:---\n",
      "ACCURACY: %74\n",
      "PRECISION: %71\n",
      "RECALL: %74\n",
      "\n"
     ]
    }
   ],
   "source": [
    "from sklearn.ensemble import VotingClassifier\n",
    "\n",
    "knn = KNeighborsClassifier(n_neighbors=best_k)\n",
    "lr = LogisticRegression(max_iter=1000)\n",
    "dt = DecisionTreeClassifier(max_depth=best_d)\n",
    "\n",
    "vclf = VotingClassifier(estimators=[('knn', knn), ('dt', dt), ('lr', lr)])\n",
    "vclf.fit(unenc_x_train, unenc_y_train)\n",
    "vclf_y_test_pred = vclf.predict(unenc_x_test)\n",
    "vclf_y_train_pred = vclf.predict(unenc_x_train)\n",
    "vclf_train_acc = metrics.accuracy_score(unenc_y_train, vclf_y_train_pred)\n",
    "vclf_test_acc = metrics.accuracy_score(unenc_y_test, vclf_y_test_pred)\n",
    "vclf_train_pre = metrics.precision_score(unenc_y_train, vclf_y_train_pred, average='weighted')\n",
    "vclf_test_pre = metrics.precision_score(unenc_y_test, vclf_y_test_pred, average='weighted')\n",
    "vclf_train_rec = metrics.recall_score(unenc_y_train, vclf_y_train_pred, average='weighted')\n",
    "vclf_test_rec = metrics.recall_score(unenc_y_test, vclf_y_test_pred, average='weighted')\n",
    "\n",
    "report(\"voting classifier train\",vclf_train_acc, vclf_train_pre, vclf_train_rec)\n",
    "report(\"voting classifier test\",vclf_test_acc, vclf_test_pre, vclf_test_rec)"
   ]
  },
  {
   "cell_type": "markdown",
   "metadata": {},
   "source": [
    "در ادامه علت عدم بهبود درصدهای این نوع یادگیری گروهی را بررسی می‌کنیم."
   ]
  },
  {
   "cell_type": "code",
   "execution_count": 87,
   "metadata": {
    "pycharm": {
     "is_executing": true,
     "name": "#%%\n"
    }
   },
   "outputs": [
    {
     "data": {
      "text/plain": [
       "0.8741418764302059"
      ]
     },
     "execution_count": 87,
     "metadata": {},
     "output_type": "execute_result"
    }
   ],
   "source": [
    "dtc = DecisionTreeClassifier(max_depth=best_d)\n",
    "dtc.fit(unenc_x_train, unenc_y_train)\n",
    "dt_y_test_pred = dtc.predict(unenc_x_test)\n",
    "\n",
    "knn = KNeighborsClassifier(n_neighbors=best_k)\n",
    "knn.fit(scaler.fit_transform(x_train), y_train)\n",
    "knn_y_test_pred = knn.predict(scaler.fit_transform(x_test))\n",
    "\n",
    "lr = LogisticRegression(max_iter=1000)\n",
    "lr.fit(x_train, y_train)\n",
    "lr_y_test_pred = lr.predict(x_test)\n",
    "\n",
    "metrics.accuracy_score(dt_y_test_pred, knn_y_test_pred)"
   ]
  },
  {
   "cell_type": "code",
   "execution_count": 88,
   "metadata": {},
   "outputs": [
    {
     "data": {
      "text/plain": [
       "0.8432494279176201"
      ]
     },
     "execution_count": 88,
     "metadata": {},
     "output_type": "execute_result"
    }
   ],
   "source": [
    "metrics.accuracy_score(lr_y_test_pred, knn_y_test_pred)"
   ]
  },
  {
   "cell_type": "code",
   "execution_count": 89,
   "metadata": {},
   "outputs": [
    {
     "data": {
      "text/plain": [
       "0.8089244851258581"
      ]
     },
     "execution_count": 89,
     "metadata": {},
     "output_type": "execute_result"
    }
   ],
   "source": [
    "metrics.accuracy_score(lr_y_test_pred, dt_y_test_pred)"
   ]
  },
  {
   "cell_type": "markdown",
   "metadata": {},
   "source": [
    "با مقایسه‌ی دوبه‌دوی درصد شباهت پاسخ‌های مدل‌های فاز اول، درمی‌یابیم که این مدل‌ها شباهت بالایی به هم دیگر دارند. در نتیجه در اکثر موارد، رأی آن‌ها یکسان است و در واقع رای‌گیری هیچ اثری ندارد. لذا نمی‌توانیم با استفاده از روشی مثل Hard Voting به پیشرفت خاصی در معیارهای دقت دست پیدا کنیم. این روش در جایی می‌تواند درصدهای معیارهای دقت را به چالش بکشد که تفاوت زیادی بین آن‌ها وجود داشته باشد و هم‌چنین رای‌گیری هم میان تعداد مدل زیادی انجام بگیرد تا بتوانیم حدودا از پاسخ‌های تصادفی جلوگیری کنیم. پس به دلایل گفته‌شده شاهد بهبود چشم‌گیر و خاصی در درصدهای مربوط به یادگیری گروهی نیستیم."
   ]
  }
 ],
 "metadata": {
  "kernelspec": {
   "display_name": "Python 3",
   "language": "python",
   "name": "python3"
  },
  "language_info": {
   "codemirror_mode": {
    "name": "ipython",
    "version": 3
   },
   "file_extension": ".py",
   "mimetype": "text/x-python",
   "name": "python",
   "nbconvert_exporter": "python",
   "pygments_lexer": "ipython3",
   "version": "3.7.7"
  }
 },
 "nbformat": 4,
 "nbformat_minor": 1
}
